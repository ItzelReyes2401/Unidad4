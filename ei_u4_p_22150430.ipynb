{
  "nbformat": 4,
  "nbformat_minor": 0,
  "metadata": {
    "colab": {
      "provenance": [],
      "collapsed_sections": [
        "kPKjqmpcVvxQ",
        "7_OC0E6jJaSF",
        "WZobxvG7KjCz",
        "NgzkZpTVL9ss",
        "8F4BdKMdLi_r",
        "JWkdyCGZXLu3",
        "3gX61_2G4nQP",
        "bNcUG3qY5jr2",
        "_0rRxlbj6PU_",
        "ciE0Gquc6xdR",
        "FphyYxyq7YsD",
        "08KGy0da8E3U"
      ]
    },
    "kernelspec": {
      "name": "python3",
      "display_name": "Python 3"
    },
    "language_info": {
      "name": "python"
    }
  },
  "cells": [
    {
      "cell_type": "markdown",
      "source": [
        "# **Introducción**\n",
        "\n",
        "\n",
        "En el presente trabajo se exploran diversos factores que influyen en el desempeño académico de los estudiantes. A través del análisis estadístico, se pretende determinar cómo variables como la participación parental, acceso a recursos, actividades extracurriculares, nivel de motivación, acceso a internet, calidad del profesorado, tipo de escuela, influencia de los compañeros, discapacidad de aprendizaje, nivel de estudio de los padres, distancia al centro educativo, y género, afectan el puntaje en los exámenes.\n",
        "\n",
        "El objetivo principal es identificar qué aspectos tienen un impacto importante en los resultados académicos para así poder proponer estrategias de mejora en el ámbito educativo.\n",
        "\n",
        "Este proyecto combina métodos estadísticos como ANOVA y pruebas de comparaciones múltiples para brindar así poder hacer una análisis optimo."
      ],
      "metadata": {
        "id": "x-Tpda_L0cw8"
      }
    },
    {
      "cell_type": "markdown",
      "source": [
        "# **Marco Teórico**\n",
        "\n",
        "\n",
        "En este trabajo se emplearon diversos métodos estadísticos y herramientas para analizar los datos y obtener conclusiones bien elaboradas.\n",
        "\n",
        "#### 1. **Análisis de Varianza (ANOVA)**  \n",
        "El ANOVA es una técnica utilizada para comparar las medias de tres o más grupos y determinar si existen diferencias significativas entre ellos. En este contexto, se utilizó para analizar cómo las variables categóricas, como la participación parental o el tipo de escuela, influyen en el puntaje de los exámenes.\n",
        "\n",
        "#### 2. **Pruebas Post-hoc: Tukey**  \n",
        "Cuando el ANOVA detecta diferencias significativas, se aplican pruebas como la de Tukey para identificar específicamente qué grupos difieren entre sí.\n",
        "\n",
        "#### 3. **Distribución Normal**  \n",
        "Antes de aplicar ANOVA, es muy importante verificar si los datos siguen una distribución normal. Este requisito nos asegura la validez de las pruebas estadísticas. En este proyecto, se asumió que las variables cumplían esta condición.\n",
        "\n",
        "#### 4. **Valor p**  \n",
        "El valor p es una medida que ayuda a determinar la significancia estadística de los resultados. En este análisis, se utilizó para decidir si las diferencias observadas entre grupos eran lo suficientemente grandes como para no atribuirse al azar.\n",
        "\n",
        "#### 5. **Scipy: ANOVA y Pruebas de Hipótesis**  \n",
        "La biblioteca **Scipy** fue empleada para realizar el ANOVA y evaluar la significancia de los resultados. Scipy es conocida por su eficiencia en cálculos matemáticos y su amplia implementación de pruebas estadísticas.\n"
      ],
      "metadata": {
        "id": "H4OwcYl10kXU"
      }
    },
    {
      "cell_type": "markdown",
      "source": [
        "# **Metodología**\n",
        "\n",
        "Para este análisis, se siguió un enfoque estructurado que permitió evaluar el impacto de varios factores en el desempeño académico de los estudiantes.\n",
        "\n",
        "1. **Obtención del conjunto de datos**  \n",
        "   Se trabajó con un conjunto de datos que contiene información de 6,378 estudiantes, cada uno con datos sobre 20 variables. Estas variables incluyeron aspectos relacionados con características individuales de cada estudiante (género, horas de estudio, horas de sueño, etc.),factores ambientales que rodean al estudiante (participación parental, nivel de recursos, tipo de escuela, etc.) y resultados académicos medidos en puntajes de exámenes.\n",
        "\n",
        "2. **Procesamiento de los datos**  \n",
        "   Antes del análisis, se realizaron los siguientes pasos:  \n",
        "   - Se eliminaron columnas para el análisis actual.\n",
        "   - Se eliminaron filas con valores faltantes.\n",
        "   - Las \"variables categóricas\" se mantuvieron en su forma original para hacer mejor la comparación entre grupos.  \n",
        "\n",
        "\n",
        "3. **Cálculo de la Métrica Objetivo**  \n",
        "   El puntaje de examen se calculó como una combinación de varias variables  relacionadas con el rendimiento académico, tales como horas de estudio, asistencia, calidad del profesorado, calificaciones previas, entre otras.\n",
        "\n",
        "4. **Prueba de Hipótesis para cada variable**  \n",
        "   Para evaluar la influencia de cada factor, se utilizaron pruebas de ANOVA, con el fin de determinar si existían diferencias significativas entre los grupos de cada variable categórica. Los pasos específicos fueron:  \n",
        "   - Definir un nivel de significancia estadística.  \n",
        "   - Aplicar la prueba ANOVA para comparar las medias de los puntajes de examen entre los grupos de cada variable (por ejemplo, alto, medio y bajo para el acceso a recursos).  \n",
        "   - Interpretar los resultados basados en el valor p.\n",
        "\n",
        "5. **Pruebas \"Post-Hoc\"**  \n",
        "   En los casos donde la prueba ANOVA indicó significancia, se realizaron pruebas \"post-hoc\" con el método de Tukey para identificar qué grupos presentaban diferencias específicas.\n",
        "\n",
        "6. **Visualización de resultados**  \n",
        "   Se generaron gráficos de comparación de medias y diagramas que mostraban las diferencias entre los grupos.\n",
        "\n",
        "7. **Análisis complementario**  \n",
        "   En variables donde las pruebas ANOVA no mostraron diferencias significativas, se realizaron análisis adicionales (como la prueba de Kruskal-Wallis) para confirmar los resultados, especialmente en variables con posibles violaciones de la normalidad.\n",
        "\n",
        "8. **Interpretación de los Resultados**  \n",
        "   \n"
      ],
      "metadata": {
        "id": "JKF5xyI10rqI"
      }
    },
    {
      "cell_type": "code",
      "source": [
        "import pandas as pd\n",
        "df= pd.read_csv('https://raw.githubusercontent.com/ItzelReyes2401/Proyecto_Unidad4/refs/heads/main/dataset.csv')\n",
        "df.drop(columns=[], inplace=True)\n",
        "df.dropna(inplace=True)\n",
        "df"
      ],
      "metadata": {
        "colab": {
          "base_uri": "https://localhost:8080/",
          "height": 444
        },
        "id": "vLjAfm254RM2",
        "outputId": "82faf4d4-ed67-4b7a-fb2c-f8638dfdd1f1"
      },
      "execution_count": 3,
      "outputs": [
        {
          "output_type": "execute_result",
          "data": {
            "text/plain": [
              "      horas_estudio  asistencia participacion_parental acceso_a_recursos  \\\n",
              "0                23          84                   bajo           elevado   \n",
              "1                19          64                   bajo             medio   \n",
              "2                24          98                  medio              bajo   \n",
              "3                29          89                   bajo             medio   \n",
              "4                19          92                  medio              bajo   \n",
              "...             ...         ...                    ...               ...   \n",
              "6602             25          69                elevado             medio   \n",
              "6603             23          76                elevado             medio   \n",
              "6604             20          90                  medio              bajo   \n",
              "6605             10          86                elevado           elevado   \n",
              "6606             15          67                  medio              bajo   \n",
              "\n",
              "     actividades_extracurriculares  horas_suenio  calificaciones_previas  \\\n",
              "0                               no             7                      73   \n",
              "1                               no             8                      59   \n",
              "2                               si             7                      91   \n",
              "3                               si             8                      98   \n",
              "4                               si             6                      65   \n",
              "...                            ...           ...                     ...   \n",
              "6602                            no             7                      76   \n",
              "6603                            no             8                      81   \n",
              "6604                            si             6                      65   \n",
              "6605                            si             6                      91   \n",
              "6606                            si             9                      94   \n",
              "\n",
              "     nivel_motivacion acceso_internet  sesiones_tutoria ingreso_familiar  \\\n",
              "0                bajo              si                 0             bajo   \n",
              "1                bajo              si                 2            medio   \n",
              "2               medio              si                 2            medio   \n",
              "3               medio              si                 1            medio   \n",
              "4               medio              si                 3            medio   \n",
              "...               ...             ...               ...              ...   \n",
              "6602            medio              si                 1          elevado   \n",
              "6603            medio              si                 3             bajo   \n",
              "6604             bajo              si                 3             bajo   \n",
              "6605          elevado              si                 2             bajo   \n",
              "6606            medio              si                 0            medio   \n",
              "\n",
              "     calidad_profesorado tipo_escuela influencia_companieros  \\\n",
              "0                  medio      publico               positivo   \n",
              "1                   bajo      publico               negativo   \n",
              "2                   bajo      publico                neutral   \n",
              "3                   bajo      publico               negativo   \n",
              "4                elevado      publico                neutral   \n",
              "...                  ...          ...                    ...   \n",
              "6602               medio      publico               positivo   \n",
              "6603             elevado      publico               positivo   \n",
              "6604               medio      publico               negativo   \n",
              "6605               medio      privado               positivo   \n",
              "6606                bajo      publico               positivo   \n",
              "\n",
              "      actividad_fisica discapacidad_aprendizaje nivel_estudio_padres  \\\n",
              "0                    3                       no         preparatoria   \n",
              "1                    4                       no          universidad   \n",
              "2                    4                       no             posgrado   \n",
              "3                    4                       no         preparatoria   \n",
              "4                    4                       no          universidad   \n",
              "...                ...                      ...                  ...   \n",
              "6602                 2                       no         preparatoria   \n",
              "6603                 2                       no         preparatoria   \n",
              "6604                 2                       no             posgrado   \n",
              "6605                 3                       no         preparatoria   \n",
              "6606                 4                       no             posgrado   \n",
              "\n",
              "     distancia  genero  puntaje_examen  \n",
              "0      cercano  hombre              67  \n",
              "1     moderado   mujer              61  \n",
              "2      cercano  hombre              74  \n",
              "3     moderado  hombre              71  \n",
              "4      cercano   mujer              70  \n",
              "...        ...     ...             ...  \n",
              "6602   cercano   mujer              68  \n",
              "6603   cercano   mujer              69  \n",
              "6604   cercano   mujer              68  \n",
              "6605    lejano   mujer              68  \n",
              "6606   cercano  hombre              64  \n",
              "\n",
              "[6378 rows x 20 columns]"
            ],
            "text/html": [
              "\n",
              "  <div id=\"df-24c5fadb-b2e0-4d46-93d4-a2fd328a1e45\" class=\"colab-df-container\">\n",
              "    <div>\n",
              "<style scoped>\n",
              "    .dataframe tbody tr th:only-of-type {\n",
              "        vertical-align: middle;\n",
              "    }\n",
              "\n",
              "    .dataframe tbody tr th {\n",
              "        vertical-align: top;\n",
              "    }\n",
              "\n",
              "    .dataframe thead th {\n",
              "        text-align: right;\n",
              "    }\n",
              "</style>\n",
              "<table border=\"1\" class=\"dataframe\">\n",
              "  <thead>\n",
              "    <tr style=\"text-align: right;\">\n",
              "      <th></th>\n",
              "      <th>horas_estudio</th>\n",
              "      <th>asistencia</th>\n",
              "      <th>participacion_parental</th>\n",
              "      <th>acceso_a_recursos</th>\n",
              "      <th>actividades_extracurriculares</th>\n",
              "      <th>horas_suenio</th>\n",
              "      <th>calificaciones_previas</th>\n",
              "      <th>nivel_motivacion</th>\n",
              "      <th>acceso_internet</th>\n",
              "      <th>sesiones_tutoria</th>\n",
              "      <th>ingreso_familiar</th>\n",
              "      <th>calidad_profesorado</th>\n",
              "      <th>tipo_escuela</th>\n",
              "      <th>influencia_companieros</th>\n",
              "      <th>actividad_fisica</th>\n",
              "      <th>discapacidad_aprendizaje</th>\n",
              "      <th>nivel_estudio_padres</th>\n",
              "      <th>distancia</th>\n",
              "      <th>genero</th>\n",
              "      <th>puntaje_examen</th>\n",
              "    </tr>\n",
              "  </thead>\n",
              "  <tbody>\n",
              "    <tr>\n",
              "      <th>0</th>\n",
              "      <td>23</td>\n",
              "      <td>84</td>\n",
              "      <td>bajo</td>\n",
              "      <td>elevado</td>\n",
              "      <td>no</td>\n",
              "      <td>7</td>\n",
              "      <td>73</td>\n",
              "      <td>bajo</td>\n",
              "      <td>si</td>\n",
              "      <td>0</td>\n",
              "      <td>bajo</td>\n",
              "      <td>medio</td>\n",
              "      <td>publico</td>\n",
              "      <td>positivo</td>\n",
              "      <td>3</td>\n",
              "      <td>no</td>\n",
              "      <td>preparatoria</td>\n",
              "      <td>cercano</td>\n",
              "      <td>hombre</td>\n",
              "      <td>67</td>\n",
              "    </tr>\n",
              "    <tr>\n",
              "      <th>1</th>\n",
              "      <td>19</td>\n",
              "      <td>64</td>\n",
              "      <td>bajo</td>\n",
              "      <td>medio</td>\n",
              "      <td>no</td>\n",
              "      <td>8</td>\n",
              "      <td>59</td>\n",
              "      <td>bajo</td>\n",
              "      <td>si</td>\n",
              "      <td>2</td>\n",
              "      <td>medio</td>\n",
              "      <td>bajo</td>\n",
              "      <td>publico</td>\n",
              "      <td>negativo</td>\n",
              "      <td>4</td>\n",
              "      <td>no</td>\n",
              "      <td>universidad</td>\n",
              "      <td>moderado</td>\n",
              "      <td>mujer</td>\n",
              "      <td>61</td>\n",
              "    </tr>\n",
              "    <tr>\n",
              "      <th>2</th>\n",
              "      <td>24</td>\n",
              "      <td>98</td>\n",
              "      <td>medio</td>\n",
              "      <td>bajo</td>\n",
              "      <td>si</td>\n",
              "      <td>7</td>\n",
              "      <td>91</td>\n",
              "      <td>medio</td>\n",
              "      <td>si</td>\n",
              "      <td>2</td>\n",
              "      <td>medio</td>\n",
              "      <td>bajo</td>\n",
              "      <td>publico</td>\n",
              "      <td>neutral</td>\n",
              "      <td>4</td>\n",
              "      <td>no</td>\n",
              "      <td>posgrado</td>\n",
              "      <td>cercano</td>\n",
              "      <td>hombre</td>\n",
              "      <td>74</td>\n",
              "    </tr>\n",
              "    <tr>\n",
              "      <th>3</th>\n",
              "      <td>29</td>\n",
              "      <td>89</td>\n",
              "      <td>bajo</td>\n",
              "      <td>medio</td>\n",
              "      <td>si</td>\n",
              "      <td>8</td>\n",
              "      <td>98</td>\n",
              "      <td>medio</td>\n",
              "      <td>si</td>\n",
              "      <td>1</td>\n",
              "      <td>medio</td>\n",
              "      <td>bajo</td>\n",
              "      <td>publico</td>\n",
              "      <td>negativo</td>\n",
              "      <td>4</td>\n",
              "      <td>no</td>\n",
              "      <td>preparatoria</td>\n",
              "      <td>moderado</td>\n",
              "      <td>hombre</td>\n",
              "      <td>71</td>\n",
              "    </tr>\n",
              "    <tr>\n",
              "      <th>4</th>\n",
              "      <td>19</td>\n",
              "      <td>92</td>\n",
              "      <td>medio</td>\n",
              "      <td>bajo</td>\n",
              "      <td>si</td>\n",
              "      <td>6</td>\n",
              "      <td>65</td>\n",
              "      <td>medio</td>\n",
              "      <td>si</td>\n",
              "      <td>3</td>\n",
              "      <td>medio</td>\n",
              "      <td>elevado</td>\n",
              "      <td>publico</td>\n",
              "      <td>neutral</td>\n",
              "      <td>4</td>\n",
              "      <td>no</td>\n",
              "      <td>universidad</td>\n",
              "      <td>cercano</td>\n",
              "      <td>mujer</td>\n",
              "      <td>70</td>\n",
              "    </tr>\n",
              "    <tr>\n",
              "      <th>...</th>\n",
              "      <td>...</td>\n",
              "      <td>...</td>\n",
              "      <td>...</td>\n",
              "      <td>...</td>\n",
              "      <td>...</td>\n",
              "      <td>...</td>\n",
              "      <td>...</td>\n",
              "      <td>...</td>\n",
              "      <td>...</td>\n",
              "      <td>...</td>\n",
              "      <td>...</td>\n",
              "      <td>...</td>\n",
              "      <td>...</td>\n",
              "      <td>...</td>\n",
              "      <td>...</td>\n",
              "      <td>...</td>\n",
              "      <td>...</td>\n",
              "      <td>...</td>\n",
              "      <td>...</td>\n",
              "      <td>...</td>\n",
              "    </tr>\n",
              "    <tr>\n",
              "      <th>6602</th>\n",
              "      <td>25</td>\n",
              "      <td>69</td>\n",
              "      <td>elevado</td>\n",
              "      <td>medio</td>\n",
              "      <td>no</td>\n",
              "      <td>7</td>\n",
              "      <td>76</td>\n",
              "      <td>medio</td>\n",
              "      <td>si</td>\n",
              "      <td>1</td>\n",
              "      <td>elevado</td>\n",
              "      <td>medio</td>\n",
              "      <td>publico</td>\n",
              "      <td>positivo</td>\n",
              "      <td>2</td>\n",
              "      <td>no</td>\n",
              "      <td>preparatoria</td>\n",
              "      <td>cercano</td>\n",
              "      <td>mujer</td>\n",
              "      <td>68</td>\n",
              "    </tr>\n",
              "    <tr>\n",
              "      <th>6603</th>\n",
              "      <td>23</td>\n",
              "      <td>76</td>\n",
              "      <td>elevado</td>\n",
              "      <td>medio</td>\n",
              "      <td>no</td>\n",
              "      <td>8</td>\n",
              "      <td>81</td>\n",
              "      <td>medio</td>\n",
              "      <td>si</td>\n",
              "      <td>3</td>\n",
              "      <td>bajo</td>\n",
              "      <td>elevado</td>\n",
              "      <td>publico</td>\n",
              "      <td>positivo</td>\n",
              "      <td>2</td>\n",
              "      <td>no</td>\n",
              "      <td>preparatoria</td>\n",
              "      <td>cercano</td>\n",
              "      <td>mujer</td>\n",
              "      <td>69</td>\n",
              "    </tr>\n",
              "    <tr>\n",
              "      <th>6604</th>\n",
              "      <td>20</td>\n",
              "      <td>90</td>\n",
              "      <td>medio</td>\n",
              "      <td>bajo</td>\n",
              "      <td>si</td>\n",
              "      <td>6</td>\n",
              "      <td>65</td>\n",
              "      <td>bajo</td>\n",
              "      <td>si</td>\n",
              "      <td>3</td>\n",
              "      <td>bajo</td>\n",
              "      <td>medio</td>\n",
              "      <td>publico</td>\n",
              "      <td>negativo</td>\n",
              "      <td>2</td>\n",
              "      <td>no</td>\n",
              "      <td>posgrado</td>\n",
              "      <td>cercano</td>\n",
              "      <td>mujer</td>\n",
              "      <td>68</td>\n",
              "    </tr>\n",
              "    <tr>\n",
              "      <th>6605</th>\n",
              "      <td>10</td>\n",
              "      <td>86</td>\n",
              "      <td>elevado</td>\n",
              "      <td>elevado</td>\n",
              "      <td>si</td>\n",
              "      <td>6</td>\n",
              "      <td>91</td>\n",
              "      <td>elevado</td>\n",
              "      <td>si</td>\n",
              "      <td>2</td>\n",
              "      <td>bajo</td>\n",
              "      <td>medio</td>\n",
              "      <td>privado</td>\n",
              "      <td>positivo</td>\n",
              "      <td>3</td>\n",
              "      <td>no</td>\n",
              "      <td>preparatoria</td>\n",
              "      <td>lejano</td>\n",
              "      <td>mujer</td>\n",
              "      <td>68</td>\n",
              "    </tr>\n",
              "    <tr>\n",
              "      <th>6606</th>\n",
              "      <td>15</td>\n",
              "      <td>67</td>\n",
              "      <td>medio</td>\n",
              "      <td>bajo</td>\n",
              "      <td>si</td>\n",
              "      <td>9</td>\n",
              "      <td>94</td>\n",
              "      <td>medio</td>\n",
              "      <td>si</td>\n",
              "      <td>0</td>\n",
              "      <td>medio</td>\n",
              "      <td>bajo</td>\n",
              "      <td>publico</td>\n",
              "      <td>positivo</td>\n",
              "      <td>4</td>\n",
              "      <td>no</td>\n",
              "      <td>posgrado</td>\n",
              "      <td>cercano</td>\n",
              "      <td>hombre</td>\n",
              "      <td>64</td>\n",
              "    </tr>\n",
              "  </tbody>\n",
              "</table>\n",
              "<p>6378 rows × 20 columns</p>\n",
              "</div>\n",
              "    <div class=\"colab-df-buttons\">\n",
              "\n",
              "  <div class=\"colab-df-container\">\n",
              "    <button class=\"colab-df-convert\" onclick=\"convertToInteractive('df-24c5fadb-b2e0-4d46-93d4-a2fd328a1e45')\"\n",
              "            title=\"Convert this dataframe to an interactive table.\"\n",
              "            style=\"display:none;\">\n",
              "\n",
              "  <svg xmlns=\"http://www.w3.org/2000/svg\" height=\"24px\" viewBox=\"0 -960 960 960\">\n",
              "    <path d=\"M120-120v-720h720v720H120Zm60-500h600v-160H180v160Zm220 220h160v-160H400v160Zm0 220h160v-160H400v160ZM180-400h160v-160H180v160Zm440 0h160v-160H620v160ZM180-180h160v-160H180v160Zm440 0h160v-160H620v160Z\"/>\n",
              "  </svg>\n",
              "    </button>\n",
              "\n",
              "  <style>\n",
              "    .colab-df-container {\n",
              "      display:flex;\n",
              "      gap: 12px;\n",
              "    }\n",
              "\n",
              "    .colab-df-convert {\n",
              "      background-color: #E8F0FE;\n",
              "      border: none;\n",
              "      border-radius: 50%;\n",
              "      cursor: pointer;\n",
              "      display: none;\n",
              "      fill: #1967D2;\n",
              "      height: 32px;\n",
              "      padding: 0 0 0 0;\n",
              "      width: 32px;\n",
              "    }\n",
              "\n",
              "    .colab-df-convert:hover {\n",
              "      background-color: #E2EBFA;\n",
              "      box-shadow: 0px 1px 2px rgba(60, 64, 67, 0.3), 0px 1px 3px 1px rgba(60, 64, 67, 0.15);\n",
              "      fill: #174EA6;\n",
              "    }\n",
              "\n",
              "    .colab-df-buttons div {\n",
              "      margin-bottom: 4px;\n",
              "    }\n",
              "\n",
              "    [theme=dark] .colab-df-convert {\n",
              "      background-color: #3B4455;\n",
              "      fill: #D2E3FC;\n",
              "    }\n",
              "\n",
              "    [theme=dark] .colab-df-convert:hover {\n",
              "      background-color: #434B5C;\n",
              "      box-shadow: 0px 1px 3px 1px rgba(0, 0, 0, 0.15);\n",
              "      filter: drop-shadow(0px 1px 2px rgba(0, 0, 0, 0.3));\n",
              "      fill: #FFFFFF;\n",
              "    }\n",
              "  </style>\n",
              "\n",
              "    <script>\n",
              "      const buttonEl =\n",
              "        document.querySelector('#df-24c5fadb-b2e0-4d46-93d4-a2fd328a1e45 button.colab-df-convert');\n",
              "      buttonEl.style.display =\n",
              "        google.colab.kernel.accessAllowed ? 'block' : 'none';\n",
              "\n",
              "      async function convertToInteractive(key) {\n",
              "        const element = document.querySelector('#df-24c5fadb-b2e0-4d46-93d4-a2fd328a1e45');\n",
              "        const dataTable =\n",
              "          await google.colab.kernel.invokeFunction('convertToInteractive',\n",
              "                                                    [key], {});\n",
              "        if (!dataTable) return;\n",
              "\n",
              "        const docLinkHtml = 'Like what you see? Visit the ' +\n",
              "          '<a target=\"_blank\" href=https://colab.research.google.com/notebooks/data_table.ipynb>data table notebook</a>'\n",
              "          + ' to learn more about interactive tables.';\n",
              "        element.innerHTML = '';\n",
              "        dataTable['output_type'] = 'display_data';\n",
              "        await google.colab.output.renderOutput(dataTable, element);\n",
              "        const docLink = document.createElement('div');\n",
              "        docLink.innerHTML = docLinkHtml;\n",
              "        element.appendChild(docLink);\n",
              "      }\n",
              "    </script>\n",
              "  </div>\n",
              "\n",
              "\n",
              "<div id=\"df-bbc6af22-6dfe-4764-ac28-e5a813d8ee34\">\n",
              "  <button class=\"colab-df-quickchart\" onclick=\"quickchart('df-bbc6af22-6dfe-4764-ac28-e5a813d8ee34')\"\n",
              "            title=\"Suggest charts\"\n",
              "            style=\"display:none;\">\n",
              "\n",
              "<svg xmlns=\"http://www.w3.org/2000/svg\" height=\"24px\"viewBox=\"0 0 24 24\"\n",
              "     width=\"24px\">\n",
              "    <g>\n",
              "        <path d=\"M19 3H5c-1.1 0-2 .9-2 2v14c0 1.1.9 2 2 2h14c1.1 0 2-.9 2-2V5c0-1.1-.9-2-2-2zM9 17H7v-7h2v7zm4 0h-2V7h2v10zm4 0h-2v-4h2v4z\"/>\n",
              "    </g>\n",
              "</svg>\n",
              "  </button>\n",
              "\n",
              "<style>\n",
              "  .colab-df-quickchart {\n",
              "      --bg-color: #E8F0FE;\n",
              "      --fill-color: #1967D2;\n",
              "      --hover-bg-color: #E2EBFA;\n",
              "      --hover-fill-color: #174EA6;\n",
              "      --disabled-fill-color: #AAA;\n",
              "      --disabled-bg-color: #DDD;\n",
              "  }\n",
              "\n",
              "  [theme=dark] .colab-df-quickchart {\n",
              "      --bg-color: #3B4455;\n",
              "      --fill-color: #D2E3FC;\n",
              "      --hover-bg-color: #434B5C;\n",
              "      --hover-fill-color: #FFFFFF;\n",
              "      --disabled-bg-color: #3B4455;\n",
              "      --disabled-fill-color: #666;\n",
              "  }\n",
              "\n",
              "  .colab-df-quickchart {\n",
              "    background-color: var(--bg-color);\n",
              "    border: none;\n",
              "    border-radius: 50%;\n",
              "    cursor: pointer;\n",
              "    display: none;\n",
              "    fill: var(--fill-color);\n",
              "    height: 32px;\n",
              "    padding: 0;\n",
              "    width: 32px;\n",
              "  }\n",
              "\n",
              "  .colab-df-quickchart:hover {\n",
              "    background-color: var(--hover-bg-color);\n",
              "    box-shadow: 0 1px 2px rgba(60, 64, 67, 0.3), 0 1px 3px 1px rgba(60, 64, 67, 0.15);\n",
              "    fill: var(--button-hover-fill-color);\n",
              "  }\n",
              "\n",
              "  .colab-df-quickchart-complete:disabled,\n",
              "  .colab-df-quickchart-complete:disabled:hover {\n",
              "    background-color: var(--disabled-bg-color);\n",
              "    fill: var(--disabled-fill-color);\n",
              "    box-shadow: none;\n",
              "  }\n",
              "\n",
              "  .colab-df-spinner {\n",
              "    border: 2px solid var(--fill-color);\n",
              "    border-color: transparent;\n",
              "    border-bottom-color: var(--fill-color);\n",
              "    animation:\n",
              "      spin 1s steps(1) infinite;\n",
              "  }\n",
              "\n",
              "  @keyframes spin {\n",
              "    0% {\n",
              "      border-color: transparent;\n",
              "      border-bottom-color: var(--fill-color);\n",
              "      border-left-color: var(--fill-color);\n",
              "    }\n",
              "    20% {\n",
              "      border-color: transparent;\n",
              "      border-left-color: var(--fill-color);\n",
              "      border-top-color: var(--fill-color);\n",
              "    }\n",
              "    30% {\n",
              "      border-color: transparent;\n",
              "      border-left-color: var(--fill-color);\n",
              "      border-top-color: var(--fill-color);\n",
              "      border-right-color: var(--fill-color);\n",
              "    }\n",
              "    40% {\n",
              "      border-color: transparent;\n",
              "      border-right-color: var(--fill-color);\n",
              "      border-top-color: var(--fill-color);\n",
              "    }\n",
              "    60% {\n",
              "      border-color: transparent;\n",
              "      border-right-color: var(--fill-color);\n",
              "    }\n",
              "    80% {\n",
              "      border-color: transparent;\n",
              "      border-right-color: var(--fill-color);\n",
              "      border-bottom-color: var(--fill-color);\n",
              "    }\n",
              "    90% {\n",
              "      border-color: transparent;\n",
              "      border-bottom-color: var(--fill-color);\n",
              "    }\n",
              "  }\n",
              "</style>\n",
              "\n",
              "  <script>\n",
              "    async function quickchart(key) {\n",
              "      const quickchartButtonEl =\n",
              "        document.querySelector('#' + key + ' button');\n",
              "      quickchartButtonEl.disabled = true;  // To prevent multiple clicks.\n",
              "      quickchartButtonEl.classList.add('colab-df-spinner');\n",
              "      try {\n",
              "        const charts = await google.colab.kernel.invokeFunction(\n",
              "            'suggestCharts', [key], {});\n",
              "      } catch (error) {\n",
              "        console.error('Error during call to suggestCharts:', error);\n",
              "      }\n",
              "      quickchartButtonEl.classList.remove('colab-df-spinner');\n",
              "      quickchartButtonEl.classList.add('colab-df-quickchart-complete');\n",
              "    }\n",
              "    (() => {\n",
              "      let quickchartButtonEl =\n",
              "        document.querySelector('#df-bbc6af22-6dfe-4764-ac28-e5a813d8ee34 button');\n",
              "      quickchartButtonEl.style.display =\n",
              "        google.colab.kernel.accessAllowed ? 'block' : 'none';\n",
              "    })();\n",
              "  </script>\n",
              "</div>\n",
              "    </div>\n",
              "  </div>\n"
            ],
            "application/vnd.google.colaboratory.intrinsic+json": {
              "type": "dataframe",
              "variable_name": "df",
              "summary": "{\n  \"name\": \"df\",\n  \"rows\": 6378,\n  \"fields\": [\n    {\n      \"column\": \"horas_estudio\",\n      \"properties\": {\n        \"dtype\": \"number\",\n        \"std\": 5,\n        \"min\": 1,\n        \"max\": 44,\n        \"num_unique_values\": 41,\n        \"samples\": [\n          27,\n          20,\n          10\n        ],\n        \"semantic_type\": \"\",\n        \"description\": \"\"\n      }\n    },\n    {\n      \"column\": \"asistencia\",\n      \"properties\": {\n        \"dtype\": \"number\",\n        \"std\": 11,\n        \"min\": 60,\n        \"max\": 100,\n        \"num_unique_values\": 41,\n        \"samples\": [\n          72,\n          60,\n          80\n        ],\n        \"semantic_type\": \"\",\n        \"description\": \"\"\n      }\n    },\n    {\n      \"column\": \"participacion_parental\",\n      \"properties\": {\n        \"dtype\": \"category\",\n        \"num_unique_values\": 3,\n        \"samples\": [\n          \"bajo\",\n          \"medio\",\n          \"elevado\"\n        ],\n        \"semantic_type\": \"\",\n        \"description\": \"\"\n      }\n    },\n    {\n      \"column\": \"acceso_a_recursos\",\n      \"properties\": {\n        \"dtype\": \"category\",\n        \"num_unique_values\": 3,\n        \"samples\": [\n          \"elevado\",\n          \"medio\",\n          \"bajo\"\n        ],\n        \"semantic_type\": \"\",\n        \"description\": \"\"\n      }\n    },\n    {\n      \"column\": \"actividades_extracurriculares\",\n      \"properties\": {\n        \"dtype\": \"category\",\n        \"num_unique_values\": 2,\n        \"samples\": [\n          \"si\",\n          \"no\"\n        ],\n        \"semantic_type\": \"\",\n        \"description\": \"\"\n      }\n    },\n    {\n      \"column\": \"horas_suenio\",\n      \"properties\": {\n        \"dtype\": \"number\",\n        \"std\": 1,\n        \"min\": 4,\n        \"max\": 10,\n        \"num_unique_values\": 7,\n        \"samples\": [\n          7,\n          8\n        ],\n        \"semantic_type\": \"\",\n        \"description\": \"\"\n      }\n    },\n    {\n      \"column\": \"calificaciones_previas\",\n      \"properties\": {\n        \"dtype\": \"number\",\n        \"std\": 14,\n        \"min\": 50,\n        \"max\": 100,\n        \"num_unique_values\": 51,\n        \"samples\": [\n          64,\n          62\n        ],\n        \"semantic_type\": \"\",\n        \"description\": \"\"\n      }\n    },\n    {\n      \"column\": \"nivel_motivacion\",\n      \"properties\": {\n        \"dtype\": \"category\",\n        \"num_unique_values\": 3,\n        \"samples\": [\n          \"bajo\",\n          \"medio\"\n        ],\n        \"semantic_type\": \"\",\n        \"description\": \"\"\n      }\n    },\n    {\n      \"column\": \"acceso_internet\",\n      \"properties\": {\n        \"dtype\": \"category\",\n        \"num_unique_values\": 2,\n        \"samples\": [\n          \"no\",\n          \"si\"\n        ],\n        \"semantic_type\": \"\",\n        \"description\": \"\"\n      }\n    },\n    {\n      \"column\": \"sesiones_tutoria\",\n      \"properties\": {\n        \"dtype\": \"number\",\n        \"std\": 1,\n        \"min\": 0,\n        \"max\": 8,\n        \"num_unique_values\": 9,\n        \"samples\": [\n          7,\n          2\n        ],\n        \"semantic_type\": \"\",\n        \"description\": \"\"\n      }\n    },\n    {\n      \"column\": \"ingreso_familiar\",\n      \"properties\": {\n        \"dtype\": \"category\",\n        \"num_unique_values\": 3,\n        \"samples\": [\n          \"bajo\",\n          \"medio\"\n        ],\n        \"semantic_type\": \"\",\n        \"description\": \"\"\n      }\n    },\n    {\n      \"column\": \"calidad_profesorado\",\n      \"properties\": {\n        \"dtype\": \"category\",\n        \"num_unique_values\": 3,\n        \"samples\": [\n          \"medio\",\n          \"bajo\"\n        ],\n        \"semantic_type\": \"\",\n        \"description\": \"\"\n      }\n    },\n    {\n      \"column\": \"tipo_escuela\",\n      \"properties\": {\n        \"dtype\": \"category\",\n        \"num_unique_values\": 2,\n        \"samples\": [\n          \"privado\",\n          \"publico\"\n        ],\n        \"semantic_type\": \"\",\n        \"description\": \"\"\n      }\n    },\n    {\n      \"column\": \"influencia_companieros\",\n      \"properties\": {\n        \"dtype\": \"category\",\n        \"num_unique_values\": 3,\n        \"samples\": [\n          \"positivo\",\n          \"negativo\"\n        ],\n        \"semantic_type\": \"\",\n        \"description\": \"\"\n      }\n    },\n    {\n      \"column\": \"actividad_fisica\",\n      \"properties\": {\n        \"dtype\": \"number\",\n        \"std\": 1,\n        \"min\": 0,\n        \"max\": 6,\n        \"num_unique_values\": 7,\n        \"samples\": [\n          3,\n          4\n        ],\n        \"semantic_type\": \"\",\n        \"description\": \"\"\n      }\n    },\n    {\n      \"column\": \"discapacidad_aprendizaje\",\n      \"properties\": {\n        \"dtype\": \"category\",\n        \"num_unique_values\": 2,\n        \"samples\": [\n          \"si\",\n          \"no\"\n        ],\n        \"semantic_type\": \"\",\n        \"description\": \"\"\n      }\n    },\n    {\n      \"column\": \"nivel_estudio_padres\",\n      \"properties\": {\n        \"dtype\": \"category\",\n        \"num_unique_values\": 3,\n        \"samples\": [\n          \"preparatoria\",\n          \"universidad\"\n        ],\n        \"semantic_type\": \"\",\n        \"description\": \"\"\n      }\n    },\n    {\n      \"column\": \"distancia\",\n      \"properties\": {\n        \"dtype\": \"category\",\n        \"num_unique_values\": 3,\n        \"samples\": [\n          \"cercano\",\n          \"moderado\"\n        ],\n        \"semantic_type\": \"\",\n        \"description\": \"\"\n      }\n    },\n    {\n      \"column\": \"genero\",\n      \"properties\": {\n        \"dtype\": \"category\",\n        \"num_unique_values\": 2,\n        \"samples\": [\n          \"mujer\",\n          \"hombre\"\n        ],\n        \"semantic_type\": \"\",\n        \"description\": \"\"\n      }\n    },\n    {\n      \"column\": \"puntaje_examen\",\n      \"properties\": {\n        \"dtype\": \"number\",\n        \"std\": 3,\n        \"min\": 55,\n        \"max\": 101,\n        \"num_unique_values\": 45,\n        \"samples\": [\n          96,\n          84\n        ],\n        \"semantic_type\": \"\",\n        \"description\": \"\"\n      }\n    }\n  ]\n}"
            }
          },
          "metadata": {},
          "execution_count": 3
        }
      ]
    },
    {
      "cell_type": "code",
      "source": [
        "df['puntaje_examen']=(df['horas_estudio'] + df['asistencia'] + df['horas_suenio'] + df['calificaciones_previas'] + df['sesiones_tutoria'] + df['actividad_fisica'] + df['puntaje_examen'])/ 7\n",
        "df"
      ],
      "metadata": {
        "colab": {
          "base_uri": "https://localhost:8080/",
          "height": 444
        },
        "id": "Y4_JOU6G9kHz",
        "outputId": "1b9fa2b4-6261-45f4-dc34-00f58e183762"
      },
      "execution_count": 4,
      "outputs": [
        {
          "output_type": "execute_result",
          "data": {
            "text/plain": [
              "      horas_estudio  asistencia participacion_parental acceso_a_recursos  \\\n",
              "0                23          84                   bajo           elevado   \n",
              "1                19          64                   bajo             medio   \n",
              "2                24          98                  medio              bajo   \n",
              "3                29          89                   bajo             medio   \n",
              "4                19          92                  medio              bajo   \n",
              "...             ...         ...                    ...               ...   \n",
              "6602             25          69                elevado             medio   \n",
              "6603             23          76                elevado             medio   \n",
              "6604             20          90                  medio              bajo   \n",
              "6605             10          86                elevado           elevado   \n",
              "6606             15          67                  medio              bajo   \n",
              "\n",
              "     actividades_extracurriculares  horas_suenio  calificaciones_previas  \\\n",
              "0                               no             7                      73   \n",
              "1                               no             8                      59   \n",
              "2                               si             7                      91   \n",
              "3                               si             8                      98   \n",
              "4                               si             6                      65   \n",
              "...                            ...           ...                     ...   \n",
              "6602                            no             7                      76   \n",
              "6603                            no             8                      81   \n",
              "6604                            si             6                      65   \n",
              "6605                            si             6                      91   \n",
              "6606                            si             9                      94   \n",
              "\n",
              "     nivel_motivacion acceso_internet  sesiones_tutoria ingreso_familiar  \\\n",
              "0                bajo              si                 0             bajo   \n",
              "1                bajo              si                 2            medio   \n",
              "2               medio              si                 2            medio   \n",
              "3               medio              si                 1            medio   \n",
              "4               medio              si                 3            medio   \n",
              "...               ...             ...               ...              ...   \n",
              "6602            medio              si                 1          elevado   \n",
              "6603            medio              si                 3             bajo   \n",
              "6604             bajo              si                 3             bajo   \n",
              "6605          elevado              si                 2             bajo   \n",
              "6606            medio              si                 0            medio   \n",
              "\n",
              "     calidad_profesorado tipo_escuela influencia_companieros  \\\n",
              "0                  medio      publico               positivo   \n",
              "1                   bajo      publico               negativo   \n",
              "2                   bajo      publico                neutral   \n",
              "3                   bajo      publico               negativo   \n",
              "4                elevado      publico                neutral   \n",
              "...                  ...          ...                    ...   \n",
              "6602               medio      publico               positivo   \n",
              "6603             elevado      publico               positivo   \n",
              "6604               medio      publico               negativo   \n",
              "6605               medio      privado               positivo   \n",
              "6606                bajo      publico               positivo   \n",
              "\n",
              "      actividad_fisica discapacidad_aprendizaje nivel_estudio_padres  \\\n",
              "0                    3                       no         preparatoria   \n",
              "1                    4                       no          universidad   \n",
              "2                    4                       no             posgrado   \n",
              "3                    4                       no         preparatoria   \n",
              "4                    4                       no          universidad   \n",
              "...                ...                      ...                  ...   \n",
              "6602                 2                       no         preparatoria   \n",
              "6603                 2                       no         preparatoria   \n",
              "6604                 2                       no             posgrado   \n",
              "6605                 3                       no         preparatoria   \n",
              "6606                 4                       no             posgrado   \n",
              "\n",
              "     distancia  genero  puntaje_examen  \n",
              "0      cercano  hombre       36.714286  \n",
              "1     moderado   mujer       31.000000  \n",
              "2      cercano  hombre       42.857143  \n",
              "3     moderado  hombre       42.857143  \n",
              "4      cercano   mujer       37.000000  \n",
              "...        ...     ...             ...  \n",
              "6602   cercano   mujer       35.428571  \n",
              "6603   cercano   mujer       37.428571  \n",
              "6604   cercano   mujer       36.285714  \n",
              "6605    lejano   mujer       38.000000  \n",
              "6606   cercano  hombre       36.142857  \n",
              "\n",
              "[6378 rows x 20 columns]"
            ],
            "text/html": [
              "\n",
              "  <div id=\"df-b3fbd4dc-ebff-45ab-bd3b-6d84ef55d418\" class=\"colab-df-container\">\n",
              "    <div>\n",
              "<style scoped>\n",
              "    .dataframe tbody tr th:only-of-type {\n",
              "        vertical-align: middle;\n",
              "    }\n",
              "\n",
              "    .dataframe tbody tr th {\n",
              "        vertical-align: top;\n",
              "    }\n",
              "\n",
              "    .dataframe thead th {\n",
              "        text-align: right;\n",
              "    }\n",
              "</style>\n",
              "<table border=\"1\" class=\"dataframe\">\n",
              "  <thead>\n",
              "    <tr style=\"text-align: right;\">\n",
              "      <th></th>\n",
              "      <th>horas_estudio</th>\n",
              "      <th>asistencia</th>\n",
              "      <th>participacion_parental</th>\n",
              "      <th>acceso_a_recursos</th>\n",
              "      <th>actividades_extracurriculares</th>\n",
              "      <th>horas_suenio</th>\n",
              "      <th>calificaciones_previas</th>\n",
              "      <th>nivel_motivacion</th>\n",
              "      <th>acceso_internet</th>\n",
              "      <th>sesiones_tutoria</th>\n",
              "      <th>ingreso_familiar</th>\n",
              "      <th>calidad_profesorado</th>\n",
              "      <th>tipo_escuela</th>\n",
              "      <th>influencia_companieros</th>\n",
              "      <th>actividad_fisica</th>\n",
              "      <th>discapacidad_aprendizaje</th>\n",
              "      <th>nivel_estudio_padres</th>\n",
              "      <th>distancia</th>\n",
              "      <th>genero</th>\n",
              "      <th>puntaje_examen</th>\n",
              "    </tr>\n",
              "  </thead>\n",
              "  <tbody>\n",
              "    <tr>\n",
              "      <th>0</th>\n",
              "      <td>23</td>\n",
              "      <td>84</td>\n",
              "      <td>bajo</td>\n",
              "      <td>elevado</td>\n",
              "      <td>no</td>\n",
              "      <td>7</td>\n",
              "      <td>73</td>\n",
              "      <td>bajo</td>\n",
              "      <td>si</td>\n",
              "      <td>0</td>\n",
              "      <td>bajo</td>\n",
              "      <td>medio</td>\n",
              "      <td>publico</td>\n",
              "      <td>positivo</td>\n",
              "      <td>3</td>\n",
              "      <td>no</td>\n",
              "      <td>preparatoria</td>\n",
              "      <td>cercano</td>\n",
              "      <td>hombre</td>\n",
              "      <td>36.714286</td>\n",
              "    </tr>\n",
              "    <tr>\n",
              "      <th>1</th>\n",
              "      <td>19</td>\n",
              "      <td>64</td>\n",
              "      <td>bajo</td>\n",
              "      <td>medio</td>\n",
              "      <td>no</td>\n",
              "      <td>8</td>\n",
              "      <td>59</td>\n",
              "      <td>bajo</td>\n",
              "      <td>si</td>\n",
              "      <td>2</td>\n",
              "      <td>medio</td>\n",
              "      <td>bajo</td>\n",
              "      <td>publico</td>\n",
              "      <td>negativo</td>\n",
              "      <td>4</td>\n",
              "      <td>no</td>\n",
              "      <td>universidad</td>\n",
              "      <td>moderado</td>\n",
              "      <td>mujer</td>\n",
              "      <td>31.000000</td>\n",
              "    </tr>\n",
              "    <tr>\n",
              "      <th>2</th>\n",
              "      <td>24</td>\n",
              "      <td>98</td>\n",
              "      <td>medio</td>\n",
              "      <td>bajo</td>\n",
              "      <td>si</td>\n",
              "      <td>7</td>\n",
              "      <td>91</td>\n",
              "      <td>medio</td>\n",
              "      <td>si</td>\n",
              "      <td>2</td>\n",
              "      <td>medio</td>\n",
              "      <td>bajo</td>\n",
              "      <td>publico</td>\n",
              "      <td>neutral</td>\n",
              "      <td>4</td>\n",
              "      <td>no</td>\n",
              "      <td>posgrado</td>\n",
              "      <td>cercano</td>\n",
              "      <td>hombre</td>\n",
              "      <td>42.857143</td>\n",
              "    </tr>\n",
              "    <tr>\n",
              "      <th>3</th>\n",
              "      <td>29</td>\n",
              "      <td>89</td>\n",
              "      <td>bajo</td>\n",
              "      <td>medio</td>\n",
              "      <td>si</td>\n",
              "      <td>8</td>\n",
              "      <td>98</td>\n",
              "      <td>medio</td>\n",
              "      <td>si</td>\n",
              "      <td>1</td>\n",
              "      <td>medio</td>\n",
              "      <td>bajo</td>\n",
              "      <td>publico</td>\n",
              "      <td>negativo</td>\n",
              "      <td>4</td>\n",
              "      <td>no</td>\n",
              "      <td>preparatoria</td>\n",
              "      <td>moderado</td>\n",
              "      <td>hombre</td>\n",
              "      <td>42.857143</td>\n",
              "    </tr>\n",
              "    <tr>\n",
              "      <th>4</th>\n",
              "      <td>19</td>\n",
              "      <td>92</td>\n",
              "      <td>medio</td>\n",
              "      <td>bajo</td>\n",
              "      <td>si</td>\n",
              "      <td>6</td>\n",
              "      <td>65</td>\n",
              "      <td>medio</td>\n",
              "      <td>si</td>\n",
              "      <td>3</td>\n",
              "      <td>medio</td>\n",
              "      <td>elevado</td>\n",
              "      <td>publico</td>\n",
              "      <td>neutral</td>\n",
              "      <td>4</td>\n",
              "      <td>no</td>\n",
              "      <td>universidad</td>\n",
              "      <td>cercano</td>\n",
              "      <td>mujer</td>\n",
              "      <td>37.000000</td>\n",
              "    </tr>\n",
              "    <tr>\n",
              "      <th>...</th>\n",
              "      <td>...</td>\n",
              "      <td>...</td>\n",
              "      <td>...</td>\n",
              "      <td>...</td>\n",
              "      <td>...</td>\n",
              "      <td>...</td>\n",
              "      <td>...</td>\n",
              "      <td>...</td>\n",
              "      <td>...</td>\n",
              "      <td>...</td>\n",
              "      <td>...</td>\n",
              "      <td>...</td>\n",
              "      <td>...</td>\n",
              "      <td>...</td>\n",
              "      <td>...</td>\n",
              "      <td>...</td>\n",
              "      <td>...</td>\n",
              "      <td>...</td>\n",
              "      <td>...</td>\n",
              "      <td>...</td>\n",
              "    </tr>\n",
              "    <tr>\n",
              "      <th>6602</th>\n",
              "      <td>25</td>\n",
              "      <td>69</td>\n",
              "      <td>elevado</td>\n",
              "      <td>medio</td>\n",
              "      <td>no</td>\n",
              "      <td>7</td>\n",
              "      <td>76</td>\n",
              "      <td>medio</td>\n",
              "      <td>si</td>\n",
              "      <td>1</td>\n",
              "      <td>elevado</td>\n",
              "      <td>medio</td>\n",
              "      <td>publico</td>\n",
              "      <td>positivo</td>\n",
              "      <td>2</td>\n",
              "      <td>no</td>\n",
              "      <td>preparatoria</td>\n",
              "      <td>cercano</td>\n",
              "      <td>mujer</td>\n",
              "      <td>35.428571</td>\n",
              "    </tr>\n",
              "    <tr>\n",
              "      <th>6603</th>\n",
              "      <td>23</td>\n",
              "      <td>76</td>\n",
              "      <td>elevado</td>\n",
              "      <td>medio</td>\n",
              "      <td>no</td>\n",
              "      <td>8</td>\n",
              "      <td>81</td>\n",
              "      <td>medio</td>\n",
              "      <td>si</td>\n",
              "      <td>3</td>\n",
              "      <td>bajo</td>\n",
              "      <td>elevado</td>\n",
              "      <td>publico</td>\n",
              "      <td>positivo</td>\n",
              "      <td>2</td>\n",
              "      <td>no</td>\n",
              "      <td>preparatoria</td>\n",
              "      <td>cercano</td>\n",
              "      <td>mujer</td>\n",
              "      <td>37.428571</td>\n",
              "    </tr>\n",
              "    <tr>\n",
              "      <th>6604</th>\n",
              "      <td>20</td>\n",
              "      <td>90</td>\n",
              "      <td>medio</td>\n",
              "      <td>bajo</td>\n",
              "      <td>si</td>\n",
              "      <td>6</td>\n",
              "      <td>65</td>\n",
              "      <td>bajo</td>\n",
              "      <td>si</td>\n",
              "      <td>3</td>\n",
              "      <td>bajo</td>\n",
              "      <td>medio</td>\n",
              "      <td>publico</td>\n",
              "      <td>negativo</td>\n",
              "      <td>2</td>\n",
              "      <td>no</td>\n",
              "      <td>posgrado</td>\n",
              "      <td>cercano</td>\n",
              "      <td>mujer</td>\n",
              "      <td>36.285714</td>\n",
              "    </tr>\n",
              "    <tr>\n",
              "      <th>6605</th>\n",
              "      <td>10</td>\n",
              "      <td>86</td>\n",
              "      <td>elevado</td>\n",
              "      <td>elevado</td>\n",
              "      <td>si</td>\n",
              "      <td>6</td>\n",
              "      <td>91</td>\n",
              "      <td>elevado</td>\n",
              "      <td>si</td>\n",
              "      <td>2</td>\n",
              "      <td>bajo</td>\n",
              "      <td>medio</td>\n",
              "      <td>privado</td>\n",
              "      <td>positivo</td>\n",
              "      <td>3</td>\n",
              "      <td>no</td>\n",
              "      <td>preparatoria</td>\n",
              "      <td>lejano</td>\n",
              "      <td>mujer</td>\n",
              "      <td>38.000000</td>\n",
              "    </tr>\n",
              "    <tr>\n",
              "      <th>6606</th>\n",
              "      <td>15</td>\n",
              "      <td>67</td>\n",
              "      <td>medio</td>\n",
              "      <td>bajo</td>\n",
              "      <td>si</td>\n",
              "      <td>9</td>\n",
              "      <td>94</td>\n",
              "      <td>medio</td>\n",
              "      <td>si</td>\n",
              "      <td>0</td>\n",
              "      <td>medio</td>\n",
              "      <td>bajo</td>\n",
              "      <td>publico</td>\n",
              "      <td>positivo</td>\n",
              "      <td>4</td>\n",
              "      <td>no</td>\n",
              "      <td>posgrado</td>\n",
              "      <td>cercano</td>\n",
              "      <td>hombre</td>\n",
              "      <td>36.142857</td>\n",
              "    </tr>\n",
              "  </tbody>\n",
              "</table>\n",
              "<p>6378 rows × 20 columns</p>\n",
              "</div>\n",
              "    <div class=\"colab-df-buttons\">\n",
              "\n",
              "  <div class=\"colab-df-container\">\n",
              "    <button class=\"colab-df-convert\" onclick=\"convertToInteractive('df-b3fbd4dc-ebff-45ab-bd3b-6d84ef55d418')\"\n",
              "            title=\"Convert this dataframe to an interactive table.\"\n",
              "            style=\"display:none;\">\n",
              "\n",
              "  <svg xmlns=\"http://www.w3.org/2000/svg\" height=\"24px\" viewBox=\"0 -960 960 960\">\n",
              "    <path d=\"M120-120v-720h720v720H120Zm60-500h600v-160H180v160Zm220 220h160v-160H400v160Zm0 220h160v-160H400v160ZM180-400h160v-160H180v160Zm440 0h160v-160H620v160ZM180-180h160v-160H180v160Zm440 0h160v-160H620v160Z\"/>\n",
              "  </svg>\n",
              "    </button>\n",
              "\n",
              "  <style>\n",
              "    .colab-df-container {\n",
              "      display:flex;\n",
              "      gap: 12px;\n",
              "    }\n",
              "\n",
              "    .colab-df-convert {\n",
              "      background-color: #E8F0FE;\n",
              "      border: none;\n",
              "      border-radius: 50%;\n",
              "      cursor: pointer;\n",
              "      display: none;\n",
              "      fill: #1967D2;\n",
              "      height: 32px;\n",
              "      padding: 0 0 0 0;\n",
              "      width: 32px;\n",
              "    }\n",
              "\n",
              "    .colab-df-convert:hover {\n",
              "      background-color: #E2EBFA;\n",
              "      box-shadow: 0px 1px 2px rgba(60, 64, 67, 0.3), 0px 1px 3px 1px rgba(60, 64, 67, 0.15);\n",
              "      fill: #174EA6;\n",
              "    }\n",
              "\n",
              "    .colab-df-buttons div {\n",
              "      margin-bottom: 4px;\n",
              "    }\n",
              "\n",
              "    [theme=dark] .colab-df-convert {\n",
              "      background-color: #3B4455;\n",
              "      fill: #D2E3FC;\n",
              "    }\n",
              "\n",
              "    [theme=dark] .colab-df-convert:hover {\n",
              "      background-color: #434B5C;\n",
              "      box-shadow: 0px 1px 3px 1px rgba(0, 0, 0, 0.15);\n",
              "      filter: drop-shadow(0px 1px 2px rgba(0, 0, 0, 0.3));\n",
              "      fill: #FFFFFF;\n",
              "    }\n",
              "  </style>\n",
              "\n",
              "    <script>\n",
              "      const buttonEl =\n",
              "        document.querySelector('#df-b3fbd4dc-ebff-45ab-bd3b-6d84ef55d418 button.colab-df-convert');\n",
              "      buttonEl.style.display =\n",
              "        google.colab.kernel.accessAllowed ? 'block' : 'none';\n",
              "\n",
              "      async function convertToInteractive(key) {\n",
              "        const element = document.querySelector('#df-b3fbd4dc-ebff-45ab-bd3b-6d84ef55d418');\n",
              "        const dataTable =\n",
              "          await google.colab.kernel.invokeFunction('convertToInteractive',\n",
              "                                                    [key], {});\n",
              "        if (!dataTable) return;\n",
              "\n",
              "        const docLinkHtml = 'Like what you see? Visit the ' +\n",
              "          '<a target=\"_blank\" href=https://colab.research.google.com/notebooks/data_table.ipynb>data table notebook</a>'\n",
              "          + ' to learn more about interactive tables.';\n",
              "        element.innerHTML = '';\n",
              "        dataTable['output_type'] = 'display_data';\n",
              "        await google.colab.output.renderOutput(dataTable, element);\n",
              "        const docLink = document.createElement('div');\n",
              "        docLink.innerHTML = docLinkHtml;\n",
              "        element.appendChild(docLink);\n",
              "      }\n",
              "    </script>\n",
              "  </div>\n",
              "\n",
              "\n",
              "<div id=\"df-7451af18-6499-4a52-8397-2debca6e4a3d\">\n",
              "  <button class=\"colab-df-quickchart\" onclick=\"quickchart('df-7451af18-6499-4a52-8397-2debca6e4a3d')\"\n",
              "            title=\"Suggest charts\"\n",
              "            style=\"display:none;\">\n",
              "\n",
              "<svg xmlns=\"http://www.w3.org/2000/svg\" height=\"24px\"viewBox=\"0 0 24 24\"\n",
              "     width=\"24px\">\n",
              "    <g>\n",
              "        <path d=\"M19 3H5c-1.1 0-2 .9-2 2v14c0 1.1.9 2 2 2h14c1.1 0 2-.9 2-2V5c0-1.1-.9-2-2-2zM9 17H7v-7h2v7zm4 0h-2V7h2v10zm4 0h-2v-4h2v4z\"/>\n",
              "    </g>\n",
              "</svg>\n",
              "  </button>\n",
              "\n",
              "<style>\n",
              "  .colab-df-quickchart {\n",
              "      --bg-color: #E8F0FE;\n",
              "      --fill-color: #1967D2;\n",
              "      --hover-bg-color: #E2EBFA;\n",
              "      --hover-fill-color: #174EA6;\n",
              "      --disabled-fill-color: #AAA;\n",
              "      --disabled-bg-color: #DDD;\n",
              "  }\n",
              "\n",
              "  [theme=dark] .colab-df-quickchart {\n",
              "      --bg-color: #3B4455;\n",
              "      --fill-color: #D2E3FC;\n",
              "      --hover-bg-color: #434B5C;\n",
              "      --hover-fill-color: #FFFFFF;\n",
              "      --disabled-bg-color: #3B4455;\n",
              "      --disabled-fill-color: #666;\n",
              "  }\n",
              "\n",
              "  .colab-df-quickchart {\n",
              "    background-color: var(--bg-color);\n",
              "    border: none;\n",
              "    border-radius: 50%;\n",
              "    cursor: pointer;\n",
              "    display: none;\n",
              "    fill: var(--fill-color);\n",
              "    height: 32px;\n",
              "    padding: 0;\n",
              "    width: 32px;\n",
              "  }\n",
              "\n",
              "  .colab-df-quickchart:hover {\n",
              "    background-color: var(--hover-bg-color);\n",
              "    box-shadow: 0 1px 2px rgba(60, 64, 67, 0.3), 0 1px 3px 1px rgba(60, 64, 67, 0.15);\n",
              "    fill: var(--button-hover-fill-color);\n",
              "  }\n",
              "\n",
              "  .colab-df-quickchart-complete:disabled,\n",
              "  .colab-df-quickchart-complete:disabled:hover {\n",
              "    background-color: var(--disabled-bg-color);\n",
              "    fill: var(--disabled-fill-color);\n",
              "    box-shadow: none;\n",
              "  }\n",
              "\n",
              "  .colab-df-spinner {\n",
              "    border: 2px solid var(--fill-color);\n",
              "    border-color: transparent;\n",
              "    border-bottom-color: var(--fill-color);\n",
              "    animation:\n",
              "      spin 1s steps(1) infinite;\n",
              "  }\n",
              "\n",
              "  @keyframes spin {\n",
              "    0% {\n",
              "      border-color: transparent;\n",
              "      border-bottom-color: var(--fill-color);\n",
              "      border-left-color: var(--fill-color);\n",
              "    }\n",
              "    20% {\n",
              "      border-color: transparent;\n",
              "      border-left-color: var(--fill-color);\n",
              "      border-top-color: var(--fill-color);\n",
              "    }\n",
              "    30% {\n",
              "      border-color: transparent;\n",
              "      border-left-color: var(--fill-color);\n",
              "      border-top-color: var(--fill-color);\n",
              "      border-right-color: var(--fill-color);\n",
              "    }\n",
              "    40% {\n",
              "      border-color: transparent;\n",
              "      border-right-color: var(--fill-color);\n",
              "      border-top-color: var(--fill-color);\n",
              "    }\n",
              "    60% {\n",
              "      border-color: transparent;\n",
              "      border-right-color: var(--fill-color);\n",
              "    }\n",
              "    80% {\n",
              "      border-color: transparent;\n",
              "      border-right-color: var(--fill-color);\n",
              "      border-bottom-color: var(--fill-color);\n",
              "    }\n",
              "    90% {\n",
              "      border-color: transparent;\n",
              "      border-bottom-color: var(--fill-color);\n",
              "    }\n",
              "  }\n",
              "</style>\n",
              "\n",
              "  <script>\n",
              "    async function quickchart(key) {\n",
              "      const quickchartButtonEl =\n",
              "        document.querySelector('#' + key + ' button');\n",
              "      quickchartButtonEl.disabled = true;  // To prevent multiple clicks.\n",
              "      quickchartButtonEl.classList.add('colab-df-spinner');\n",
              "      try {\n",
              "        const charts = await google.colab.kernel.invokeFunction(\n",
              "            'suggestCharts', [key], {});\n",
              "      } catch (error) {\n",
              "        console.error('Error during call to suggestCharts:', error);\n",
              "      }\n",
              "      quickchartButtonEl.classList.remove('colab-df-spinner');\n",
              "      quickchartButtonEl.classList.add('colab-df-quickchart-complete');\n",
              "    }\n",
              "    (() => {\n",
              "      let quickchartButtonEl =\n",
              "        document.querySelector('#df-7451af18-6499-4a52-8397-2debca6e4a3d button');\n",
              "      quickchartButtonEl.style.display =\n",
              "        google.colab.kernel.accessAllowed ? 'block' : 'none';\n",
              "    })();\n",
              "  </script>\n",
              "</div>\n",
              "    </div>\n",
              "  </div>\n"
            ],
            "application/vnd.google.colaboratory.intrinsic+json": {
              "type": "dataframe",
              "variable_name": "df",
              "summary": "{\n  \"name\": \"df\",\n  \"rows\": 6378,\n  \"fields\": [\n    {\n      \"column\": \"horas_estudio\",\n      \"properties\": {\n        \"dtype\": \"number\",\n        \"std\": 5,\n        \"min\": 1,\n        \"max\": 44,\n        \"num_unique_values\": 41,\n        \"samples\": [\n          27,\n          20,\n          10\n        ],\n        \"semantic_type\": \"\",\n        \"description\": \"\"\n      }\n    },\n    {\n      \"column\": \"asistencia\",\n      \"properties\": {\n        \"dtype\": \"number\",\n        \"std\": 11,\n        \"min\": 60,\n        \"max\": 100,\n        \"num_unique_values\": 41,\n        \"samples\": [\n          72,\n          60,\n          80\n        ],\n        \"semantic_type\": \"\",\n        \"description\": \"\"\n      }\n    },\n    {\n      \"column\": \"participacion_parental\",\n      \"properties\": {\n        \"dtype\": \"category\",\n        \"num_unique_values\": 3,\n        \"samples\": [\n          \"bajo\",\n          \"medio\",\n          \"elevado\"\n        ],\n        \"semantic_type\": \"\",\n        \"description\": \"\"\n      }\n    },\n    {\n      \"column\": \"acceso_a_recursos\",\n      \"properties\": {\n        \"dtype\": \"category\",\n        \"num_unique_values\": 3,\n        \"samples\": [\n          \"elevado\",\n          \"medio\",\n          \"bajo\"\n        ],\n        \"semantic_type\": \"\",\n        \"description\": \"\"\n      }\n    },\n    {\n      \"column\": \"actividades_extracurriculares\",\n      \"properties\": {\n        \"dtype\": \"category\",\n        \"num_unique_values\": 2,\n        \"samples\": [\n          \"si\",\n          \"no\"\n        ],\n        \"semantic_type\": \"\",\n        \"description\": \"\"\n      }\n    },\n    {\n      \"column\": \"horas_suenio\",\n      \"properties\": {\n        \"dtype\": \"number\",\n        \"std\": 1,\n        \"min\": 4,\n        \"max\": 10,\n        \"num_unique_values\": 7,\n        \"samples\": [\n          7,\n          8\n        ],\n        \"semantic_type\": \"\",\n        \"description\": \"\"\n      }\n    },\n    {\n      \"column\": \"calificaciones_previas\",\n      \"properties\": {\n        \"dtype\": \"number\",\n        \"std\": 14,\n        \"min\": 50,\n        \"max\": 100,\n        \"num_unique_values\": 51,\n        \"samples\": [\n          64,\n          62\n        ],\n        \"semantic_type\": \"\",\n        \"description\": \"\"\n      }\n    },\n    {\n      \"column\": \"nivel_motivacion\",\n      \"properties\": {\n        \"dtype\": \"category\",\n        \"num_unique_values\": 3,\n        \"samples\": [\n          \"bajo\",\n          \"medio\"\n        ],\n        \"semantic_type\": \"\",\n        \"description\": \"\"\n      }\n    },\n    {\n      \"column\": \"acceso_internet\",\n      \"properties\": {\n        \"dtype\": \"category\",\n        \"num_unique_values\": 2,\n        \"samples\": [\n          \"no\",\n          \"si\"\n        ],\n        \"semantic_type\": \"\",\n        \"description\": \"\"\n      }\n    },\n    {\n      \"column\": \"sesiones_tutoria\",\n      \"properties\": {\n        \"dtype\": \"number\",\n        \"std\": 1,\n        \"min\": 0,\n        \"max\": 8,\n        \"num_unique_values\": 9,\n        \"samples\": [\n          7,\n          2\n        ],\n        \"semantic_type\": \"\",\n        \"description\": \"\"\n      }\n    },\n    {\n      \"column\": \"ingreso_familiar\",\n      \"properties\": {\n        \"dtype\": \"category\",\n        \"num_unique_values\": 3,\n        \"samples\": [\n          \"bajo\",\n          \"medio\"\n        ],\n        \"semantic_type\": \"\",\n        \"description\": \"\"\n      }\n    },\n    {\n      \"column\": \"calidad_profesorado\",\n      \"properties\": {\n        \"dtype\": \"category\",\n        \"num_unique_values\": 3,\n        \"samples\": [\n          \"medio\",\n          \"bajo\"\n        ],\n        \"semantic_type\": \"\",\n        \"description\": \"\"\n      }\n    },\n    {\n      \"column\": \"tipo_escuela\",\n      \"properties\": {\n        \"dtype\": \"category\",\n        \"num_unique_values\": 2,\n        \"samples\": [\n          \"privado\",\n          \"publico\"\n        ],\n        \"semantic_type\": \"\",\n        \"description\": \"\"\n      }\n    },\n    {\n      \"column\": \"influencia_companieros\",\n      \"properties\": {\n        \"dtype\": \"category\",\n        \"num_unique_values\": 3,\n        \"samples\": [\n          \"positivo\",\n          \"negativo\"\n        ],\n        \"semantic_type\": \"\",\n        \"description\": \"\"\n      }\n    },\n    {\n      \"column\": \"actividad_fisica\",\n      \"properties\": {\n        \"dtype\": \"number\",\n        \"std\": 1,\n        \"min\": 0,\n        \"max\": 6,\n        \"num_unique_values\": 7,\n        \"samples\": [\n          3,\n          4\n        ],\n        \"semantic_type\": \"\",\n        \"description\": \"\"\n      }\n    },\n    {\n      \"column\": \"discapacidad_aprendizaje\",\n      \"properties\": {\n        \"dtype\": \"category\",\n        \"num_unique_values\": 2,\n        \"samples\": [\n          \"si\",\n          \"no\"\n        ],\n        \"semantic_type\": \"\",\n        \"description\": \"\"\n      }\n    },\n    {\n      \"column\": \"nivel_estudio_padres\",\n      \"properties\": {\n        \"dtype\": \"category\",\n        \"num_unique_values\": 3,\n        \"samples\": [\n          \"preparatoria\",\n          \"universidad\"\n        ],\n        \"semantic_type\": \"\",\n        \"description\": \"\"\n      }\n    },\n    {\n      \"column\": \"distancia\",\n      \"properties\": {\n        \"dtype\": \"category\",\n        \"num_unique_values\": 3,\n        \"samples\": [\n          \"cercano\",\n          \"moderado\"\n        ],\n        \"semantic_type\": \"\",\n        \"description\": \"\"\n      }\n    },\n    {\n      \"column\": \"genero\",\n      \"properties\": {\n        \"dtype\": \"category\",\n        \"num_unique_values\": 2,\n        \"samples\": [\n          \"mujer\",\n          \"hombre\"\n        ],\n        \"semantic_type\": \"\",\n        \"description\": \"\"\n      }\n    },\n    {\n      \"column\": \"puntaje_examen\",\n      \"properties\": {\n        \"dtype\": \"number\",\n        \"std\": 3.149151162570599,\n        \"min\": 26.857142857142858,\n        \"max\": 47.57142857142857,\n        \"num_unique_values\": 130,\n        \"samples\": [\n          29.714285714285715,\n          30.857142857142858\n        ],\n        \"semantic_type\": \"\",\n        \"description\": \"\"\n      }\n    }\n  ]\n}"
            }
          },
          "metadata": {},
          "execution_count": 4
        }
      ]
    },
    {
      "cell_type": "markdown",
      "source": [
        "# **Participación parental**"
      ],
      "metadata": {
        "id": "kPKjqmpcVvxQ"
      }
    },
    {
      "cell_type": "code",
      "source": [
        "df['participacion_parental'].unique()"
      ],
      "metadata": {
        "colab": {
          "base_uri": "https://localhost:8080/"
        },
        "id": "wU7pu6sI9Wgk",
        "outputId": "3771a094-d9d7-461c-f13d-531d1f286b84"
      },
      "execution_count": 5,
      "outputs": [
        {
          "output_type": "execute_result",
          "data": {
            "text/plain": [
              "array(['bajo', 'medio', 'elevado'], dtype=object)"
            ]
          },
          "metadata": {},
          "execution_count": 5
        }
      ]
    },
    {
      "cell_type": "code",
      "source": [
        "# Si todos los grupos tienen una distribución normal\n",
        "import scipy.stats as stats\n",
        "\n",
        "nivel_de_significancia = 0.05\n",
        "\n",
        "# Realizar ANOVA\n",
        "anova_result = stats.f_oneway(\n",
        "    df[df['participacion_parental'] == 'bajo']['puntaje_examen'],\n",
        "    df[df['participacion_parental'] == 'medio']['puntaje_examen'],\n",
        "    df[df['participacion_parental'] == 'elevado']['puntaje_examen'],\n",
        ")\n",
        "\n",
        "# Interpretar los resultados\n",
        "print(\"Resultados del ANOVA:\")\n",
        "print(f\"F-Estadístico: {anova_result.statistic:.2f}\")\n",
        "print(f\"Valor p: {anova_result.pvalue:.5f}\\n\")\n",
        "\n",
        "if anova_result.pvalue < nivel_de_significancia:\n",
        "    print(\"Conclusión: Hay diferencias significativas entre al menos dos tratamientos.\")\n",
        "else:\n",
        "    print(\"Conclusión: No hay diferencias significativas entre los tratamientos.\")"
      ],
      "metadata": {
        "id": "ATXQ883TCNBx",
        "colab": {
          "base_uri": "https://localhost:8080/"
        },
        "outputId": "244b4a07-c7de-4107-b3ad-4b0213dca1c6"
      },
      "execution_count": 6,
      "outputs": [
        {
          "output_type": "stream",
          "name": "stdout",
          "text": [
            "Resultados del ANOVA:\n",
            "F-Estadístico: 0.80\n",
            "Valor p: 0.45144\n",
            "\n",
            "Conclusión: No hay diferencias significativas entre los tratamientos.\n"
          ]
        }
      ]
    },
    {
      "cell_type": "code",
      "source": [
        "# Si todos los grupos tienen una distribución normal.\n",
        "# Si no cumplen con la normalidad, toman el resultado de la prueba de Kruskal\n",
        "#     y pueden usar los gráficos de Tukey para tomar una decisión (ignorando la tabla).\n",
        "#.    Estrictamente hablando, tendrían que realizar la prueba de Dunn.\n",
        "from statsmodels.stats.multicomp import pairwise_tukeyhsd\n",
        "import matplotlib.pyplot as plt\n",
        "\n",
        "nivel_de_significancia = 0.05\n",
        "\n",
        "# Prueba de Tukey\n",
        "tukey = pairwise_tukeyhsd(endog=df['puntaje_examen'], groups=df['participacion_parental'], alpha=nivel_de_significancia)\n",
        "\n",
        "# Mostrar los resultados\n",
        "print(tukey)\n",
        "\n",
        "# Gráfico de las diferencias entre grupos\n",
        "tukey.plot_simultaneous(ylabel=\"Grupos\", xlabel=\"Medias\")\n",
        "\n",
        "plt.gca().spines['right'].set_visible(False) # derecha\n",
        "plt.gca().spines['top'].set_visible(False)   # superior\n",
        "plt.title(\"Múltiples comparaciones entre todos los pares (Tukey)\")"
      ],
      "metadata": {
        "colab": {
          "base_uri": "https://localhost:8080/",
          "height": 721
        },
        "id": "ugExMHFCIPGW",
        "outputId": "75aee0eb-509d-44bc-a7ee-95c2eea6dee3"
      },
      "execution_count": 7,
      "outputs": [
        {
          "output_type": "stream",
          "name": "stdout",
          "text": [
            " Multiple Comparison of Means - Tukey HSD, FWER=0.05 \n",
            "=====================================================\n",
            " group1  group2 meandiff p-adj   lower  upper  reject\n",
            "-----------------------------------------------------\n",
            "   bajo elevado   0.0264  0.971 -0.2417 0.2946  False\n",
            "   bajo   medio  -0.0823 0.7065 -0.3252 0.1606  False\n",
            "elevado   medio  -0.1087 0.4637 -0.3242 0.1068  False\n",
            "-----------------------------------------------------\n"
          ]
        },
        {
          "output_type": "execute_result",
          "data": {
            "text/plain": [
              "Text(0.5, 1.0, 'Múltiples comparaciones entre todos los pares (Tukey)')"
            ]
          },
          "metadata": {},
          "execution_count": 7
        },
        {
          "output_type": "display_data",
          "data": {
            "text/plain": [
              "<Figure size 1000x600 with 1 Axes>"
            ],
            "image/png": "[encoded data removed]"
          },
          "metadata": {}
        }
      ]
    },
    {
      "cell_type": "code",
      "source": [
        "# CONCLUSIÓN: El análisis no encontró diferencias significativas entre los niveles de participación parental en cuanto al puntaje de exámenes.\n",
        "#Aunque se esperaba que un mayor involucramiento parental resultara en mejores resultados, los datos no respaldaron esta hipótesis.\n",
        "#Esto podría deberse a que otros factores tienen mayor peso o a diferencias en cómo se define y mide la participación.\n",
        "\n"
      ],
      "metadata": {
        "id": "4iJSUx7ZnOqZ"
      },
      "execution_count": null,
      "outputs": []
    },
    {
      "cell_type": "markdown",
      "source": [
        "# **Acceso a recursos**"
      ],
      "metadata": {
        "id": "7_OC0E6jJaSF"
      }
    },
    {
      "cell_type": "code",
      "source": [
        "df['acceso_a_recursos'].unique()"
      ],
      "metadata": {
        "colab": {
          "base_uri": "https://localhost:8080/"
        },
        "id": "znqhbFEiJfqF",
        "outputId": "49f3d25b-c778-4459-fc63-3902655c5fe5"
      },
      "execution_count": 8,
      "outputs": [
        {
          "output_type": "execute_result",
          "data": {
            "text/plain": [
              "array(['elevado', 'medio', 'bajo'], dtype=object)"
            ]
          },
          "metadata": {},
          "execution_count": 8
        }
      ]
    },
    {
      "cell_type": "code",
      "source": [
        "# Si todos los grupos tienen una distribución normal\n",
        "import scipy.stats as stats\n",
        "\n",
        "nivel_de_significancia = 0.05\n",
        "\n",
        "# Realizar ANOVA\n",
        "anova_result = stats.f_oneway(\n",
        "    df[df['acceso_a_recursos'] == 'elevado']['puntaje_examen'],\n",
        "    df[df['acceso_a_recursos'] == 'medio']['puntaje_examen'],\n",
        "    df[df['acceso_a_recursos'] == 'bajo']['puntaje_examen'],\n",
        ")\n",
        "\n",
        "# Interpretar los resultados\n",
        "print(\"Resultados del ANOVA:\")\n",
        "print(f\"F-Estadístico: {anova_result.statistic:.2f}\")\n",
        "print(f\"Valor p: {anova_result.pvalue:.5f}\\n\")\n",
        "\n",
        "if anova_result.pvalue < nivel_de_significancia:\n",
        "    print(\"Conclusión: Hay diferencias significativas entre al menos dos tratamientos.\")\n",
        "else:\n",
        "    print(\"Conclusión: No hay diferencias significativas entre los tratamientos.\")"
      ],
      "metadata": {
        "colab": {
          "base_uri": "https://localhost:8080/"
        },
        "id": "FXzUBF-2J2P7",
        "outputId": "a5424842-1a1e-489e-f208-cc761b755343"
      },
      "execution_count": 9,
      "outputs": [
        {
          "output_type": "stream",
          "name": "stdout",
          "text": [
            "Resultados del ANOVA:\n",
            "F-Estadístico: 3.51\n",
            "Valor p: 0.03006\n",
            "\n",
            "Conclusión: Hay diferencias significativas entre al menos dos tratamientos.\n"
          ]
        }
      ]
    },
    {
      "cell_type": "code",
      "source": [
        "# Si todos los grupos tienen una distribución normal.\n",
        "# Si no cumplen con la normalidad, toman el resultado de la prueba de Kruskal\n",
        "#     y pueden usar los gráficos de Tukey para tomar una decisión (ignorando la tabla).\n",
        "#.    Estrictamente hablando, tendrían que realizar la prueba de Dunn.\n",
        "from statsmodels.stats.multicomp import pairwise_tukeyhsd\n",
        "import matplotlib.pyplot as plt\n",
        "\n",
        "nivel_de_significancia = 0.05\n",
        "\n",
        "# Prueba de Tukey\n",
        "tukey = pairwise_tukeyhsd(endog=df['puntaje_examen'], groups=df['acceso_a_recursos'], alpha=nivel_de_significancia)\n",
        "\n",
        "# Mostrar los resultados\n",
        "print(tukey)\n",
        "\n",
        "# Gráfico de las diferencias entre grupos\n",
        "tukey.plot_simultaneous(ylabel=\"Grupos\", xlabel=\"Medias\")\n",
        "\n",
        "plt.gca().spines['right'].set_visible(False) # derecha\n",
        "plt.gca().spines['top'].set_visible(False)   # superior\n",
        "plt.title(\"Múltiples comparaciones entre todos los pares (Tukey)\")"
      ],
      "metadata": {
        "colab": {
          "base_uri": "https://localhost:8080/",
          "height": 721
        },
        "id": "zZvjO8KmKZCj",
        "outputId": "da41d7b5-b1b7-4a3a-e5e2-1f3954d4c908"
      },
      "execution_count": 10,
      "outputs": [
        {
          "output_type": "stream",
          "name": "stdout",
          "text": [
            " Multiple Comparison of Means - Tukey HSD, FWER=0.05 \n",
            "=====================================================\n",
            " group1  group2 meandiff p-adj   lower  upper  reject\n",
            "-----------------------------------------------------\n",
            "   bajo elevado   0.2432 0.0239  0.0257 0.4608   True\n",
            "   bajo   medio   0.1306 0.3825 -0.1009  0.362  False\n",
            "elevado   medio  -0.1126  0.547 -0.3648 0.1395  False\n",
            "-----------------------------------------------------\n"
          ]
        },
        {
          "output_type": "execute_result",
          "data": {
            "text/plain": [
              "Text(0.5, 1.0, 'Múltiples comparaciones entre todos los pares (Tukey)')"
            ]
          },
          "metadata": {},
          "execution_count": 10
        },
        {
          "output_type": "display_data",
          "data": {
            "text/plain": [
              "<Figure size 1000x600 with 1 Axes>"
            ],
            "image/png": "[encoded data removed]"
          },
          "metadata": {}
        }
      ]
    },
    {
      "cell_type": "code",
      "source": [
        "#CONCLUSIÓN: Se encontró que el acceso elevado a recursos educativos está relacionado con mejores puntajes de examen en comparación con niveles bajos.\n",
        "#Esto refuerza la importancia de garantizar que los estudiantes tengan materiales y apoyo suficiente para maximizar su aprendizaje.\n",
        "\n"
      ],
      "metadata": {
        "id": "ABZdLDxwnd_Q"
      },
      "execution_count": null,
      "outputs": []
    },
    {
      "cell_type": "markdown",
      "source": [
        "# **Actividades extracurriculares**"
      ],
      "metadata": {
        "id": "WZobxvG7KjCz"
      }
    },
    {
      "cell_type": "code",
      "source": [
        "df['actividades_extracurriculares'].unique()"
      ],
      "metadata": {
        "colab": {
          "base_uri": "https://localhost:8080/"
        },
        "id": "_c5uR9AIKvIU",
        "outputId": "81d9d1d0-edf0-436a-ab30-64f58ec02786"
      },
      "execution_count": 11,
      "outputs": [
        {
          "output_type": "execute_result",
          "data": {
            "text/plain": [
              "array(['no', 'si'], dtype=object)"
            ]
          },
          "metadata": {},
          "execution_count": 11
        }
      ]
    },
    {
      "cell_type": "code",
      "source": [
        "# Si todos los grupos tienen una distribución normal\n",
        "import scipy.stats as stats\n",
        "\n",
        "nivel_de_significancia = 0.05\n",
        "\n",
        "# Realizar ANOVA\n",
        "anova_result = stats.f_oneway(\n",
        "    df[df['actividades_extracurriculares'] == 'no']['puntaje_examen'],\n",
        "    df[df['actividades_extracurriculares'] == 'si']['puntaje_examen'],\n",
        ")\n",
        "\n",
        "# Interpretar los resultados\n",
        "print(\"Resultados del ANOVA:\")\n",
        "print(f\"F-Estadístico: {anova_result.statistic:.2f}\")\n",
        "print(f\"Valor p: {anova_result.pvalue:.5f}\\n\")\n",
        "\n",
        "if anova_result.pvalue < nivel_de_significancia:\n",
        "    print(\"Conclusión: Hay diferencias significativas entre al menos dos tratamientos.\")\n",
        "else:\n",
        "    print(\"Conclusión: No hay diferencias significativas entre los tratamientos.\")"
      ],
      "metadata": {
        "colab": {
          "base_uri": "https://localhost:8080/"
        },
        "id": "7ogGj4E7K9ak",
        "outputId": "50d50b9b-9f48-451e-f22f-ea2aec8a27b8"
      },
      "execution_count": 12,
      "outputs": [
        {
          "output_type": "stream",
          "name": "stdout",
          "text": [
            "Resultados del ANOVA:\n",
            "F-Estadístico: 0.67\n",
            "Valor p: 0.41417\n",
            "\n",
            "Conclusión: No hay diferencias significativas entre los tratamientos.\n"
          ]
        }
      ]
    },
    {
      "cell_type": "code",
      "source": [
        "# Si todos los grupos tienen una distribución normal.\n",
        "# Si no cumplen con la normalidad, toman el resultado de la prueba de Kruskal\n",
        "#     y pueden usar los gráficos de Tukey para tomar una decisión (ignorando la tabla).\n",
        "#.    Estrictamente hablando, tendrían que realizar la prueba de Dunn.\n",
        "from statsmodels.stats.multicomp import pairwise_tukeyhsd\n",
        "import matplotlib.pyplot as plt\n",
        "\n",
        "nivel_de_significancia = 0.05\n",
        "\n",
        "# Prueba de Tukey\n",
        "tukey = pairwise_tukeyhsd(endog=df['puntaje_examen'], groups=df['actividades_extracurriculares'], alpha=nivel_de_significancia)\n",
        "\n",
        "# Mostrar los resultados\n",
        "print(tukey)\n",
        "\n",
        "# Gráfico de las diferencias entre grupos\n",
        "tukey.plot_simultaneous(ylabel=\"Grupos\", xlabel=\"Medias\")\n",
        "\n",
        "plt.gca().spines['right'].set_visible(False) # derecha\n",
        "plt.gca().spines['top'].set_visible(False)   # superior\n",
        "plt.title(\"Múltiples comparaciones entre todos los pares (Tukey)\")"
      ],
      "metadata": {
        "colab": {
          "base_uri": "https://localhost:8080/",
          "height": 687
        },
        "id": "dpgfCz2aLaRT",
        "outputId": "da7be6f8-36b2-4050-b497-3f107a41df0d"
      },
      "execution_count": 13,
      "outputs": [
        {
          "output_type": "stream",
          "name": "stdout",
          "text": [
            "Multiple Comparison of Means - Tukey HSD, FWER=0.05\n",
            "===================================================\n",
            "group1 group2 meandiff p-adj   lower  upper  reject\n",
            "---------------------------------------------------\n",
            "    no     si   0.0656 0.4142 -0.0919 0.2232  False\n",
            "---------------------------------------------------\n"
          ]
        },
        {
          "output_type": "execute_result",
          "data": {
            "text/plain": [
              "Text(0.5, 1.0, 'Múltiples comparaciones entre todos los pares (Tukey)')"
            ]
          },
          "metadata": {},
          "execution_count": 13
        },
        {
          "output_type": "display_data",
          "data": {
            "text/plain": [
              "<Figure size 1000x600 with 1 Axes>"
            ],
            "image/png": "[encoded data removed]"
          },
          "metadata": {}
        }
      ]
    },
    {
      "cell_type": "code",
      "source": [
        "#CONCLUSIÓN: No hubo diferencias significativas entre estudiantes que participan en actividades extracurriculares y aquellos que no.\n",
        "#Aunque estas actividades suelen estar asociadas con habilidades blandas, su impacto directo en el rendimiento académico no fue concluyente.\n",
        "\n"
      ],
      "metadata": {
        "id": "3jR-IzGFnqSs"
      },
      "execution_count": null,
      "outputs": []
    },
    {
      "cell_type": "markdown",
      "source": [
        "# **Nivel motivación**"
      ],
      "metadata": {
        "id": "NgzkZpTVL9ss"
      }
    },
    {
      "cell_type": "code",
      "source": [
        "df['nivel_motivacion'].unique()"
      ],
      "metadata": {
        "colab": {
          "base_uri": "https://localhost:8080/"
        },
        "id": "x2NCtn4nMD4k",
        "outputId": "31479dee-ecda-4fca-8bb5-a747ac577d9a"
      },
      "execution_count": 14,
      "outputs": [
        {
          "output_type": "execute_result",
          "data": {
            "text/plain": [
              "array(['bajo', 'medio', 'elevado'], dtype=object)"
            ]
          },
          "metadata": {},
          "execution_count": 14
        }
      ]
    },
    {
      "cell_type": "code",
      "source": [
        "# Si todos los grupos tienen una distribución normal\n",
        "import scipy.stats as stats\n",
        "\n",
        "nivel_de_significancia = 0.05\n",
        "\n",
        "# Realizar ANOVA\n",
        "anova_result = stats.f_oneway(\n",
        "    df[df['nivel_motivacion'] == 'bajo']['puntaje_examen'],\n",
        "    df[df['nivel_motivacion'] == 'medio']['puntaje_examen'],\n",
        "    df[df['nivel_motivacion'] == 'elevado']['puntaje_examen'],\n",
        ")\n",
        "\n",
        "# Interpretar los resultados\n",
        "print(\"Resultados del ANOVA:\")\n",
        "print(f\"F-Estadístico: {anova_result.statistic:.2f}\")\n",
        "print(f\"Valor p: {anova_result.pvalue:.5f}\\n\")\n",
        "\n",
        "if anova_result.pvalue < nivel_de_significancia:\n",
        "    print(\"Conclusión: Hay diferencias significativas entre al menos dos tratamientos.\")\n",
        "else:\n",
        "    print(\"Conclusión: No hay diferencias significativas entre los tratamientos.\")"
      ],
      "metadata": {
        "colab": {
          "base_uri": "https://localhost:8080/"
        },
        "id": "IDYeb2J0MJ_y",
        "outputId": "07226944-a848-4a46-8350-555517452a58"
      },
      "execution_count": 15,
      "outputs": [
        {
          "output_type": "stream",
          "name": "stdout",
          "text": [
            "Resultados del ANOVA:\n",
            "F-Estadístico: 0.79\n",
            "Valor p: 0.45457\n",
            "\n",
            "Conclusión: No hay diferencias significativas entre los tratamientos.\n"
          ]
        }
      ]
    },
    {
      "cell_type": "code",
      "source": [
        "# Si todos los grupos tienen una distribución normal.\n",
        "# Si no cumplen con la normalidad, toman el resultado de la prueba de Kruskal\n",
        "#     y pueden usar los gráficos de Tukey para tomar una decisión (ignorando la tabla).\n",
        "#.    Estrictamente hablando, tendrían que realizar la prueba de Dunn.\n",
        "from statsmodels.stats.multicomp import pairwise_tukeyhsd\n",
        "import matplotlib.pyplot as plt\n",
        "\n",
        "nivel_de_significancia = 0.05\n",
        "\n",
        "# Prueba de Tukey\n",
        "tukey = pairwise_tukeyhsd(endog=df['puntaje_examen'], groups=df['nivel_motivacion'], alpha=nivel_de_significancia)\n",
        "\n",
        "# Mostrar los resultados\n",
        "print(tukey)\n",
        "\n",
        "# Gráfico de las diferencias entre grupos\n",
        "tukey.plot_simultaneous(ylabel=\"Grupos\", xlabel=\"Medias\")\n",
        "\n",
        "plt.gca().spines['right'].set_visible(False) # derecha\n",
        "plt.gca().spines['top'].set_visible(False)   # superior\n",
        "plt.title(\"Múltiples comparaciones entre todos los pares (Tukey)\")"
      ],
      "metadata": {
        "colab": {
          "base_uri": "https://localhost:8080/",
          "height": 721
        },
        "id": "2L0zoCP9MWrL",
        "outputId": "1886fed1-a287-42e7-abca-671480bdd361"
      },
      "execution_count": 16,
      "outputs": [
        {
          "output_type": "stream",
          "name": "stdout",
          "text": [
            " Multiple Comparison of Means - Tukey HSD, FWER=0.05 \n",
            "=====================================================\n",
            " group1  group2 meandiff p-adj   lower  upper  reject\n",
            "-----------------------------------------------------\n",
            "   bajo elevado   0.1436 0.4205 -0.1245 0.4118  False\n",
            "   bajo   medio   0.0598 0.7909 -0.1549 0.2744  False\n",
            "elevado   medio  -0.0839 0.6993 -0.3279 0.1601  False\n",
            "-----------------------------------------------------\n"
          ]
        },
        {
          "output_type": "execute_result",
          "data": {
            "text/plain": [
              "Text(0.5, 1.0, 'Múltiples comparaciones entre todos los pares (Tukey)')"
            ]
          },
          "metadata": {},
          "execution_count": 16
        },
        {
          "output_type": "display_data",
          "data": {
            "text/plain": [
              "<Figure size 1000x600 with 1 Axes>"
            ],
            "image/png": "[encoded data removed]"
          },
          "metadata": {}
        }
      ]
    },
    {
      "cell_type": "code",
      "source": [
        "#CONCLUSIÓN: El nivel de motivación no mostró diferencias significativas en el desempeño académico.\n",
        "#Esto sugiere que aunque la motivación es importante, otros factores contextuales podrían estar opacando su impacto en los resultados.\n",
        "\n"
      ],
      "metadata": {
        "id": "6JGhy4-5nyP8"
      },
      "execution_count": null,
      "outputs": []
    },
    {
      "cell_type": "markdown",
      "source": [
        "#  **Acceso internet**"
      ],
      "metadata": {
        "id": "8F4BdKMdLi_r"
      }
    },
    {
      "cell_type": "code",
      "source": [
        "df['acceso_internet'].unique()"
      ],
      "metadata": {
        "colab": {
          "base_uri": "https://localhost:8080/"
        },
        "id": "T2d4usqeLrs6",
        "outputId": "811d3236-2f99-4110-8ab1-ae8f5f5942db"
      },
      "execution_count": 17,
      "outputs": [
        {
          "output_type": "execute_result",
          "data": {
            "text/plain": [
              "array(['si', 'no'], dtype=object)"
            ]
          },
          "metadata": {},
          "execution_count": 17
        }
      ]
    },
    {
      "cell_type": "code",
      "source": [
        "# Si todos los grupos tienen una distribución normal\n",
        "import scipy.stats as stats\n",
        "\n",
        "nivel_de_significancia = 0.05\n",
        "\n",
        "# Realizar ANOVA\n",
        "anova_result = stats.f_oneway(\n",
        "    df[df['acceso_internet'] == 'si']['puntaje_examen'],\n",
        "    df[df['acceso_internet'] == 'no']['puntaje_examen'],\n",
        ")\n",
        "\n",
        "# Interpretar los resultados\n",
        "print(\"Resultados del ANOVA:\")\n",
        "print(f\"F-Estadístico: {anova_result.statistic:.2f}\")\n",
        "print(f\"Valor p: {anova_result.pvalue:.5f}\\n\")\n",
        "\n",
        "if anova_result.pvalue < nivel_de_significancia:\n",
        "    print(\"Conclusión: Hay diferencias significativas entre al menos dos tratamientos.\")\n",
        "else:\n",
        "    print(\"Conclusión: No hay diferencias significativas entre los tratamientos.\")"
      ],
      "metadata": {
        "colab": {
          "base_uri": "https://localhost:8080/"
        },
        "id": "9Sh7wr2kMdiC",
        "outputId": "0f7c0050-233f-41ff-e289-c92910aff396"
      },
      "execution_count": 18,
      "outputs": [
        {
          "output_type": "stream",
          "name": "stdout",
          "text": [
            "Resultados del ANOVA:\n",
            "F-Estadístico: 0.04\n",
            "Valor p: 0.84990\n",
            "\n",
            "Conclusión: No hay diferencias significativas entre los tratamientos.\n"
          ]
        }
      ]
    },
    {
      "cell_type": "code",
      "source": [
        "# Si todos los grupos tienen una distribución normal.\n",
        "# Si no cumplen con la normalidad, toman el resultado de la prueba de Kruskal\n",
        "#     y pueden usar los gráficos de Tukey para tomar una decisión (ignorando la tabla).\n",
        "#.    Estrictamente hablando, tendrían que realizar la prueba de Dunn.\n",
        "from statsmodels.stats.multicomp import pairwise_tukeyhsd\n",
        "import matplotlib.pyplot as plt\n",
        "\n",
        "nivel_de_significancia = 0.05\n",
        "\n",
        "# Prueba de Tukey\n",
        "tukey = pairwise_tukeyhsd(endog=df['puntaje_examen'], groups=df['acceso_internet'], alpha=nivel_de_significancia)\n",
        "\n",
        "# Mostrar los resultados\n",
        "print(tukey)\n",
        "\n",
        "# Gráfico de las diferencias entre grupos\n",
        "tukey.plot_simultaneous(ylabel=\"Grupos\", xlabel=\"Medias\")\n",
        "\n",
        "plt.gca().spines['right'].set_visible(False) # derecha\n",
        "plt.gca().spines['top'].set_visible(False)   # superior\n",
        "plt.title(\"Múltiples comparaciones entre todos los pares (Tukey)\")"
      ],
      "metadata": {
        "colab": {
          "base_uri": "https://localhost:8080/",
          "height": 687
        },
        "id": "z4BWkrYVMnx7",
        "outputId": "b14957bc-cd1b-4b00-83a1-1416d5cb73ae"
      },
      "execution_count": 19,
      "outputs": [
        {
          "output_type": "stream",
          "name": "stdout",
          "text": [
            "Multiple Comparison of Means - Tukey HSD, FWER=0.05\n",
            "===================================================\n",
            "group1 group2 meandiff p-adj   lower  upper  reject\n",
            "---------------------------------------------------\n",
            "    no     si   0.0282 0.8499 -0.2635 0.3198  False\n",
            "---------------------------------------------------\n"
          ]
        },
        {
          "output_type": "execute_result",
          "data": {
            "text/plain": [
              "Text(0.5, 1.0, 'Múltiples comparaciones entre todos los pares (Tukey)')"
            ]
          },
          "metadata": {},
          "execution_count": 19
        },
        {
          "output_type": "display_data",
          "data": {
            "text/plain": [
              "<Figure size 1000x600 with 1 Axes>"
            ],
            "image/png": "[encoded data removed]"
          },
          "metadata": {}
        }
      ]
    },
    {
      "cell_type": "code",
      "source": [
        "#CONCLUSIÓN: La disponibilidad de internet no fue un factor significativo en los puntajes.\n",
        "#Esto podría deberse a que su uso no siempre está orientado al aprendizaje o a diferencias en cómo los estudiantes utilizan este recurso.\n",
        "\n"
      ],
      "metadata": {
        "id": "coO8SUlSn5Bd"
      },
      "execution_count": null,
      "outputs": []
    },
    {
      "cell_type": "markdown",
      "source": [
        "# **Calidad profesorado**"
      ],
      "metadata": {
        "id": "JWkdyCGZXLu3"
      }
    },
    {
      "cell_type": "code",
      "source": [
        "df['calidad_profesorado'].unique()"
      ],
      "metadata": {
        "colab": {
          "base_uri": "https://localhost:8080/"
        },
        "id": "b3PltqB9Xj8I",
        "outputId": "4a403ba6-9a6d-49a6-d0ad-cc4e83b84814"
      },
      "execution_count": 20,
      "outputs": [
        {
          "output_type": "execute_result",
          "data": {
            "text/plain": [
              "array(['medio', 'bajo', 'elevado'], dtype=object)"
            ]
          },
          "metadata": {},
          "execution_count": 20
        }
      ]
    },
    {
      "cell_type": "code",
      "source": [
        "# Si todos los grupos tienen una distribución normal\n",
        "import scipy.stats as stats\n",
        "\n",
        "nivel_de_significancia = 0.05\n",
        "\n",
        "# Realizar ANOVA\n",
        "anova_result = stats.f_oneway(\n",
        "    df[df['calidad_profesorado'] == 'medio']['puntaje_examen'],\n",
        "    df[df['calidad_profesorado'] == 'bajo']['puntaje_examen'],\n",
        "    df[df['calidad_profesorado'] == 'elevado']['puntaje_examen'],\n",
        "\n",
        ")\n",
        "\n",
        "# Interpretar los resultados\n",
        "print(\"Resultados del ANOVA:\")\n",
        "print(f\"F-Estadístico: {anova_result.statistic:.2f}\")\n",
        "print(f\"Valor p: {anova_result.pvalue:.5f}\\n\")\n",
        "\n",
        "if anova_result.pvalue < nivel_de_significancia:\n",
        "    print(\"Conclusión: Hay diferencias significativas entre al menos dos tratamientos.\")\n",
        "else:\n",
        "    print(\"Conclusión: No hay diferencias significativas entre los tratamientos.\")"
      ],
      "metadata": {
        "colab": {
          "base_uri": "https://localhost:8080/"
        },
        "id": "Mfow1HmLXvQo",
        "outputId": "8bd4680c-cc94-4e3a-e19b-464248be3ec3"
      },
      "execution_count": 21,
      "outputs": [
        {
          "output_type": "stream",
          "name": "stdout",
          "text": [
            "Resultados del ANOVA:\n",
            "F-Estadístico: 3.08\n",
            "Valor p: 0.04587\n",
            "\n",
            "Conclusión: Hay diferencias significativas entre al menos dos tratamientos.\n"
          ]
        }
      ]
    },
    {
      "cell_type": "code",
      "source": [
        "# Si todos los grupos tienen una distribución normal.\n",
        "# Si no cumplen con la normalidad, toman el resultado de la prueba de Kruskal\n",
        "#     y pueden usar los gráficos de Tukey para tomar una decisión (ignorando la tabla).\n",
        "#.    Estrictamente hablando, tendrían que realizar la prueba de Dunn.\n",
        "from statsmodels.stats.multicomp import pairwise_tukeyhsd\n",
        "import matplotlib.pyplot as plt\n",
        "\n",
        "nivel_de_significancia = 0.05\n",
        "\n",
        "# Prueba de Tukey\n",
        "tukey = pairwise_tukeyhsd(endog=df['puntaje_examen'], groups=df['calidad_profesorado'], alpha=nivel_de_significancia)\n",
        "\n",
        "# Mostrar los resultados\n",
        "print(tukey)\n",
        "\n",
        "# Gráfico de las diferencias entre grupos\n",
        "tukey.plot_simultaneous(ylabel=\"Grupos\", xlabel=\"Medias\")\n",
        "\n",
        "plt.gca().spines['right'].set_visible(False) # derecha\n",
        "plt.gca().spines['top'].set_visible(False)   # superior\n",
        "plt.title(\"Múltiples comparaciones entre todos los pares (Tukey)\")"
      ],
      "metadata": {
        "colab": {
          "base_uri": "https://localhost:8080/",
          "height": 721
        },
        "id": "6mAUVhrvXynr",
        "outputId": "388db732-e679-49ec-c0c1-53d6c1035254"
      },
      "execution_count": 22,
      "outputs": [
        {
          "output_type": "stream",
          "name": "stdout",
          "text": [
            " Multiple Comparison of Means - Tukey HSD, FWER=0.05 \n",
            "=====================================================\n",
            " group1  group2 meandiff p-adj   lower  upper  reject\n",
            "-----------------------------------------------------\n",
            "   bajo elevado   0.0629 0.7983 -0.1678 0.2937  False\n",
            "   bajo   medio  -0.1685  0.173 -0.3892 0.0522  False\n",
            "elevado   medio  -0.2315 0.0474 -0.4609 -0.002   True\n",
            "-----------------------------------------------------\n"
          ]
        },
        {
          "output_type": "execute_result",
          "data": {
            "text/plain": [
              "Text(0.5, 1.0, 'Múltiples comparaciones entre todos los pares (Tukey)')"
            ]
          },
          "metadata": {},
          "execution_count": 22
        },
        {
          "output_type": "display_data",
          "data": {
            "text/plain": [
              "<Figure size 1000x600 with 1 Axes>"
            ],
            "image/png": "[encoded data removed]"
          },
          "metadata": {}
        }
      ]
    },
    {
      "cell_type": "code",
      "source": [
        "#CONCLUSIÓN: Se observaron diferencias significativas entre niveles altos y medios de calidad del profesorado.\n",
        "#Un profesorado más capacitado y efectivo tiene un impacto positivo en el desempeño, lo que resalta la necesidad de inversión en la formación docente.\n",
        "\n"
      ],
      "metadata": {
        "id": "Gfqk-gCLn_zp"
      },
      "execution_count": null,
      "outputs": []
    },
    {
      "cell_type": "markdown",
      "source": [
        "# **Tipo escuela**"
      ],
      "metadata": {
        "id": "3gX61_2G4nQP"
      }
    },
    {
      "cell_type": "code",
      "source": [
        "df['tipo_escuela'].unique()"
      ],
      "metadata": {
        "colab": {
          "base_uri": "https://localhost:8080/"
        },
        "id": "Lgy27CIE4_kT",
        "outputId": "ed352367-5226-49a3-c783-c9c3db573a8a"
      },
      "execution_count": 23,
      "outputs": [
        {
          "output_type": "execute_result",
          "data": {
            "text/plain": [
              "array(['publico', 'privado'], dtype=object)"
            ]
          },
          "metadata": {},
          "execution_count": 23
        }
      ]
    },
    {
      "cell_type": "code",
      "source": [
        "# Si todos los grupos tienen una distribución normal\n",
        "import scipy.stats as stats\n",
        "\n",
        "nivel_de_significancia = 0.05\n",
        "\n",
        "# Realizar ANOVA\n",
        "anova_result = stats.f_oneway(\n",
        "    df[df['tipo_escuela'] == 'publico']['puntaje_examen'],\n",
        "    df[df['tipo_escuela'] == 'privado']['puntaje_examen'],\n",
        ")\n",
        "\n",
        "# Interpretar los resultados\n",
        "print(\"Resultados del ANOVA:\")\n",
        "print(f\"F-Estadístico: {anova_result.statistic:.2f}\")\n",
        "print(f\"Valor p: {anova_result.pvalue:.5f}\\n\")\n",
        "\n",
        "if anova_result.pvalue < nivel_de_significancia:\n",
        "    print(\"Conclusión: Hay diferencias significativas entre al menos dos tratamientos.\")\n",
        "else:\n",
        "    print(\"Conclusión: No hay diferencias significativas entre los tratamientos.\")"
      ],
      "metadata": {
        "colab": {
          "base_uri": "https://localhost:8080/"
        },
        "id": "-1SwJkpj5HdM",
        "outputId": "27720252-0416-4a9c-dac8-eb9d2f7baa54"
      },
      "execution_count": 24,
      "outputs": [
        {
          "output_type": "stream",
          "name": "stdout",
          "text": [
            "Resultados del ANOVA:\n",
            "F-Estadístico: 0.13\n",
            "Valor p: 0.71455\n",
            "\n",
            "Conclusión: No hay diferencias significativas entre los tratamientos.\n"
          ]
        }
      ]
    },
    {
      "cell_type": "code",
      "source": [
        "# Si todos los grupos tienen una distribución normal.\n",
        "# Si no cumplen con la normalidad, toman el resultado de la prueba de Kruskal\n",
        "#     y pueden usar los gráficos de Tukey para tomar una decisión (ignorando la tabla).\n",
        "#.    Estrictamente hablando, tendrían que realizar la prueba de Dunn.\n",
        "from statsmodels.stats.multicomp import pairwise_tukeyhsd\n",
        "import matplotlib.pyplot as plt\n",
        "\n",
        "nivel_de_significancia = 0.05\n",
        "\n",
        "# Prueba de Tukey\n",
        "tukey = pairwise_tukeyhsd(endog=df['puntaje_examen'], groups=df['tipo_escuela'], alpha=nivel_de_significancia)\n",
        "\n",
        "# Mostrar los resultados\n",
        "print(tukey)\n",
        "\n",
        "# Gráfico de las diferencias entre grupos\n",
        "tukey.plot_simultaneous(ylabel=\"Grupos\", xlabel=\"Medias\")\n",
        "\n",
        "plt.gca().spines['right'].set_visible(False) # derecha\n",
        "plt.gca().spines['top'].set_visible(False)   # superior\n",
        "plt.title(\"Múltiples comparaciones entre todos los pares (Tukey)\")"
      ],
      "metadata": {
        "colab": {
          "base_uri": "https://localhost:8080/",
          "height": 687
        },
        "id": "x9SY2XOd5IY1",
        "outputId": "55b985ae-5c06-47c4-f18e-76bfea73abfe"
      },
      "execution_count": 25,
      "outputs": [
        {
          "output_type": "stream",
          "name": "stdout",
          "text": [
            " Multiple Comparison of Means - Tukey HSD, FWER=0.05 \n",
            "=====================================================\n",
            " group1  group2 meandiff p-adj   lower  upper  reject\n",
            "-----------------------------------------------------\n",
            "privado publico  -0.0313 0.7146 -0.1993 0.1366  False\n",
            "-----------------------------------------------------\n"
          ]
        },
        {
          "output_type": "execute_result",
          "data": {
            "text/plain": [
              "Text(0.5, 1.0, 'Múltiples comparaciones entre todos los pares (Tukey)')"
            ]
          },
          "metadata": {},
          "execution_count": 25
        },
        {
          "output_type": "display_data",
          "data": {
            "text/plain": [
              "<Figure size 1000x600 with 1 Axes>"
            ],
            "image/png": "[encoded data removed]"
          },
          "metadata": {}
        }
      ]
    },
    {
      "cell_type": "code",
      "source": [
        "#CONCLUSIÓN: No hubo diferencias significativas entre escuelas públicas y privadas.\n",
        "#EstO desafía la percepción común de que las escuelas privadas ofrecen una mejor calidad educativa.\n",
        "\n"
      ],
      "metadata": {
        "id": "D8bdLAeyoHKf"
      },
      "execution_count": null,
      "outputs": []
    },
    {
      "cell_type": "markdown",
      "source": [
        "# **Influencia compañeros**"
      ],
      "metadata": {
        "id": "bNcUG3qY5jr2"
      }
    },
    {
      "cell_type": "code",
      "source": [
        "df['influencia_companieros'].unique()"
      ],
      "metadata": {
        "colab": {
          "base_uri": "https://localhost:8080/"
        },
        "id": "5FXFSfsP5yLn",
        "outputId": "e0036285-f2f6-4aca-bfc9-03bfed9d6bfe"
      },
      "execution_count": 26,
      "outputs": [
        {
          "output_type": "execute_result",
          "data": {
            "text/plain": [
              "array(['positivo', 'negativo', 'neutral'], dtype=object)"
            ]
          },
          "metadata": {},
          "execution_count": 26
        }
      ]
    },
    {
      "cell_type": "code",
      "source": [
        "# Si todos los grupos tienen una distribución normal\n",
        "import scipy.stats as stats\n",
        "\n",
        "nivel_de_significancia = 0.05\n",
        "\n",
        "# Realizar ANOVA\n",
        "anova_result = stats.f_oneway(\n",
        "    df[df['influencia_companieros'] == 'positivo']['puntaje_examen'],\n",
        "    df[df['influencia_companieros'] == 'negativo']['puntaje_examen'],\n",
        "    df[df['influencia_companieros'] == 'neutral']['puntaje_examen'],\n",
        ")\n",
        "\n",
        "# Interpretar los resultados\n",
        "print(\"Resultados del ANOVA:\")\n",
        "print(f\"F-Estadístico: {anova_result.statistic:.2f}\")\n",
        "print(f\"Valor p: {anova_result.pvalue:.5f}\\n\")\n",
        "\n",
        "if anova_result.pvalue < nivel_de_significancia:\n",
        "    print(\"Conclusión: Hay diferencias significativas entre al menos dos tratamientos.\")\n",
        "else:\n",
        "    print(\"Conclusión: No hay diferencias significativas entre los tratamientos.\")"
      ],
      "metadata": {
        "colab": {
          "base_uri": "https://localhost:8080/"
        },
        "id": "qmv38gfE51GU",
        "outputId": "acb8da42-799c-4ac2-80a7-352e5bc69f12"
      },
      "execution_count": 27,
      "outputs": [
        {
          "output_type": "stream",
          "name": "stdout",
          "text": [
            "Resultados del ANOVA:\n",
            "F-Estadístico: 2.09\n",
            "Valor p: 0.12394\n",
            "\n",
            "Conclusión: No hay diferencias significativas entre los tratamientos.\n"
          ]
        }
      ]
    },
    {
      "cell_type": "code",
      "source": [
        "# Si todos los grupos tienen una distribución normal.\n",
        "# Si no cumplen con la normalidad, toman el resultado de la prueba de Kruskal\n",
        "#     y pueden usar los gráficos de Tukey para tomar una decisión (ignorando la tabla).\n",
        "#.    Estrictamente hablando, tendrían que realizar la prueba de Dunn.\n",
        "from statsmodels.stats.multicomp import pairwise_tukeyhsd\n",
        "import matplotlib.pyplot as plt\n",
        "\n",
        "nivel_de_significancia = 0.05\n",
        "\n",
        "# Prueba de Tukey\n",
        "tukey = pairwise_tukeyhsd(endog=df['puntaje_examen'], groups=df['influencia_companieros'], alpha=nivel_de_significancia)\n",
        "\n",
        "# Mostrar los resultados\n",
        "print(tukey)\n",
        "\n",
        "# Gráfico de las diferencias entre grupos\n",
        "tukey.plot_simultaneous(ylabel=\"Grupos\", xlabel=\"Medias\")\n",
        "\n",
        "plt.gca().spines['right'].set_visible(False) # derecha\n",
        "plt.gca().spines['top'].set_visible(False)   # superior\n",
        "plt.title(\"Múltiples comparaciones entre todos los pares (Tukey)\")"
      ],
      "metadata": {
        "colab": {
          "base_uri": "https://localhost:8080/",
          "height": 721
        },
        "id": "UEXAY1b854Ky",
        "outputId": "74d9163d-1c6f-4b74-a8f0-a30b330ddcd4"
      },
      "execution_count": 28,
      "outputs": [
        {
          "output_type": "stream",
          "name": "stdout",
          "text": [
            "  Multiple Comparison of Means - Tukey HSD, FWER=0.05  \n",
            "=======================================================\n",
            " group1   group2  meandiff p-adj   lower  upper  reject\n",
            "-------------------------------------------------------\n",
            "negativo  neutral   0.1967 0.1568 -0.0539 0.4473  False\n",
            "negativo positivo   0.0567 0.8554 -0.1929 0.3063  False\n",
            " neutral positivo    -0.14 0.2546 -0.3478 0.0678  False\n",
            "-------------------------------------------------------\n"
          ]
        },
        {
          "output_type": "execute_result",
          "data": {
            "text/plain": [
              "Text(0.5, 1.0, 'Múltiples comparaciones entre todos los pares (Tukey)')"
            ]
          },
          "metadata": {},
          "execution_count": 28
        },
        {
          "output_type": "display_data",
          "data": {
            "text/plain": [
              "<Figure size 1000x600 with 1 Axes>"
            ],
            "image/png": "[encoded data removed]"
          },
          "metadata": {}
        }
      ]
    },
    {
      "cell_type": "code",
      "source": [
        "# CONCLUSIÓN:No se encontraron diferencias significativas entre los tipos de influencia de los compañeros.\n",
        "#Aunque el ambiente social es importante, parece no tener un impacto directo en este caso.\n"
      ],
      "metadata": {
        "id": "Nw1NYatmoQwG"
      },
      "execution_count": null,
      "outputs": []
    },
    {
      "cell_type": "markdown",
      "source": [
        "# **Discapacidad aprendizaje**"
      ],
      "metadata": {
        "id": "_0rRxlbj6PU_"
      }
    },
    {
      "cell_type": "code",
      "source": [
        "df['discapacidad_aprendizaje'].unique()"
      ],
      "metadata": {
        "colab": {
          "base_uri": "https://localhost:8080/"
        },
        "id": "bPjB8Is76RK6",
        "outputId": "0e366ca3-919c-43d1-a31e-875144beb2f6"
      },
      "execution_count": 29,
      "outputs": [
        {
          "output_type": "execute_result",
          "data": {
            "text/plain": [
              "array(['no', 'si'], dtype=object)"
            ]
          },
          "metadata": {},
          "execution_count": 29
        }
      ]
    },
    {
      "cell_type": "code",
      "source": [
        "# Si todos los grupos tienen una distribución normal\n",
        "import scipy.stats as stats\n",
        "\n",
        "nivel_de_significancia = 0.05\n",
        "\n",
        "# Realizar ANOVA\n",
        "anova_result = stats.f_oneway(\n",
        "    df[df['discapacidad_aprendizaje'] == 'no']['puntaje_examen'],\n",
        "    df[df['discapacidad_aprendizaje'] == 'si']['puntaje_examen'],\n",
        ")\n",
        "\n",
        "# Interpretar los resultados\n",
        "print(\"Resultados del ANOVA:\")\n",
        "print(f\"F-Estadístico: {anova_result.statistic:.2f}\")\n",
        "print(f\"Valor p: {anova_result.pvalue:.5f}\\n\")\n",
        "\n",
        "if anova_result.pvalue < nivel_de_significancia:\n",
        "    print(\"Conclusión: Hay diferencias significativas entre al menos dos tratamientos.\")\n",
        "else:\n",
        "    print(\"Conclusión: No hay diferencias significativas entre los tratamientos.\")"
      ],
      "metadata": {
        "colab": {
          "base_uri": "https://localhost:8080/"
        },
        "id": "LcxZ9z6Y6T1I",
        "outputId": "5faeceb5-c670-4d0c-fdf0-776e61e87b10"
      },
      "execution_count": 30,
      "outputs": [
        {
          "output_type": "stream",
          "name": "stdout",
          "text": [
            "Resultados del ANOVA:\n",
            "F-Estadístico: 3.74\n",
            "Valor p: 0.05319\n",
            "\n",
            "Conclusión: No hay diferencias significativas entre los tratamientos.\n"
          ]
        }
      ]
    },
    {
      "cell_type": "code",
      "source": [
        "# Si todos los grupos tienen una distribución normal.\n",
        "# Si no cumplen con la normalidad, toman el resultado de la prueba de Kruskal\n",
        "#     y pueden usar los gráficos de Tukey para tomar una decisión (ignorando la tabla).\n",
        "#.    Estrictamente hablando, tendrían que realizar la prueba de Dunn.\n",
        "from statsmodels.stats.multicomp import pairwise_tukeyhsd\n",
        "import matplotlib.pyplot as plt\n",
        "\n",
        "nivel_de_significancia = 0.05\n",
        "\n",
        "# Prueba de Tukey\n",
        "tukey = pairwise_tukeyhsd(endog=df['puntaje_examen'], groups=df['discapacidad_aprendizaje'], alpha=nivel_de_significancia)\n",
        "\n",
        "# Mostrar los resultados\n",
        "print(tukey)\n",
        "\n",
        "# Gráfico de las diferencias entre grupos\n",
        "tukey.plot_simultaneous(ylabel=\"Grupos\", xlabel=\"Medias\")\n",
        "\n",
        "plt.gca().spines['right'].set_visible(False) # derecha\n",
        "plt.gca().spines['top'].set_visible(False)   # superior\n",
        "plt.title(\"Múltiples comparaciones entre todos los pares (Tukey)\")"
      ],
      "metadata": {
        "colab": {
          "base_uri": "https://localhost:8080/",
          "height": 687
        },
        "id": "dFX-Axt06Wp4",
        "outputId": "ce7976dc-da09-4dc8-93df-670f3d0abe22"
      },
      "execution_count": 31,
      "outputs": [
        {
          "output_type": "stream",
          "name": "stdout",
          "text": [
            "Multiple Comparison of Means - Tukey HSD, FWER=0.05\n",
            "===================================================\n",
            "group1 group2 meandiff p-adj   lower  upper  reject\n",
            "---------------------------------------------------\n",
            "    no     si   -0.249 0.0532 -0.5014 0.0034  False\n",
            "---------------------------------------------------\n"
          ]
        },
        {
          "output_type": "execute_result",
          "data": {
            "text/plain": [
              "Text(0.5, 1.0, 'Múltiples comparaciones entre todos los pares (Tukey)')"
            ]
          },
          "metadata": {},
          "execution_count": 31
        },
        {
          "output_type": "display_data",
          "data": {
            "text/plain": [
              "<Figure size 1000x600 with 1 Axes>"
            ],
            "image/png": "[encoded data removed]"
          },
          "metadata": {}
        }
      ]
    },
    {
      "cell_type": "code",
      "source": [
        "#CONCLUSIÓN:No se encontraron diferencias significativas en el desempeño entre estudiantes con y sin discapacidades de aprendizaje, aunque los datos sugieren una ligera tendencia hacia menores puntajes en el primer grupo.\n",
        "\n"
      ],
      "metadata": {
        "id": "8VU5CxJ-of48"
      },
      "execution_count": null,
      "outputs": []
    },
    {
      "cell_type": "markdown",
      "source": [
        "# **Nivel estudio padres**"
      ],
      "metadata": {
        "id": "ciE0Gquc6xdR"
      }
    },
    {
      "cell_type": "code",
      "source": [
        "df['nivel_estudio_padres'].unique()"
      ],
      "metadata": {
        "colab": {
          "base_uri": "https://localhost:8080/"
        },
        "id": "V8Yh5gsX6yJ8",
        "outputId": "d07fbdb2-463b-48b9-ed26-f6c27e879844"
      },
      "execution_count": 32,
      "outputs": [
        {
          "output_type": "execute_result",
          "data": {
            "text/plain": [
              "array(['preparatoria', 'universidad', 'posgrado'], dtype=object)"
            ]
          },
          "metadata": {},
          "execution_count": 32
        }
      ]
    },
    {
      "cell_type": "code",
      "source": [
        "# Si todos los grupos tienen una distribución normal\n",
        "import scipy.stats as stats\n",
        "\n",
        "nivel_de_significancia = 0.05\n",
        "\n",
        "# Realizar ANOVA\n",
        "anova_result = stats.f_oneway(\n",
        "    df[df['nivel_estudio_padres'] == 'preparatoria']['puntaje_examen'],\n",
        "    df[df['nivel_estudio_padres'] == 'universidad']['puntaje_examen'],\n",
        "    df[df['nivel_estudio_padres'] == 'posgrado']['puntaje_examen'],\n",
        ")\n",
        "\n",
        "# Interpretar los resultados\n",
        "print(\"Resultados del ANOVA:\")\n",
        "print(f\"F-Estadístico: {anova_result.statistic:.2f}\")\n",
        "print(f\"Valor p: {anova_result.pvalue:.5f}\\n\")\n",
        "\n",
        "if anova_result.pvalue < nivel_de_significancia:\n",
        "    print(\"Conclusión: Hay diferencias significativas entre al menos dos tratamientos.\")\n",
        "else:\n",
        "    print(\"Conclusión: No hay diferencias significativas entre los tratamientos.\")"
      ],
      "metadata": {
        "colab": {
          "base_uri": "https://localhost:8080/"
        },
        "id": "xETrqSar61U8",
        "outputId": "f886e0c2-0739-47af-89d0-f04d18510e30"
      },
      "execution_count": 33,
      "outputs": [
        {
          "output_type": "stream",
          "name": "stdout",
          "text": [
            "Resultados del ANOVA:\n",
            "F-Estadístico: 2.37\n",
            "Valor p: 0.09390\n",
            "\n",
            "Conclusión: No hay diferencias significativas entre los tratamientos.\n"
          ]
        }
      ]
    },
    {
      "cell_type": "code",
      "source": [
        "# Si todos los grupos tienen una distribución normal.\n",
        "# Si no cumplen con la normalidad, toman el resultado de la prueba de Kruskal\n",
        "#     y pueden usar los gráficos de Tukey para tomar una decisión (ignorando la tabla).\n",
        "#.    Estrictamente hablando, tendrían que realizar la prueba de Dunn.\n",
        "from statsmodels.stats.multicomp import pairwise_tukeyhsd\n",
        "import matplotlib.pyplot as plt\n",
        "\n",
        "nivel_de_significancia = 0.05\n",
        "\n",
        "# Prueba de Tukey\n",
        "tukey = pairwise_tukeyhsd(endog=df['puntaje_examen'], groups=df['nivel_estudio_padres'], alpha=nivel_de_significancia)\n",
        "\n",
        "# Mostrar los resultados\n",
        "print(tukey)\n",
        "\n",
        "# Gráfico de las diferencias entre grupos\n",
        "tukey.plot_simultaneous(ylabel=\"Grupos\", xlabel=\"Medias\")\n",
        "\n",
        "plt.gca().spines['right'].set_visible(False) # derecha\n",
        "plt.gca().spines['top'].set_visible(False)   # superior\n",
        "plt.title(\"Múltiples comparaciones entre todos los pares (Tukey)\")"
      ],
      "metadata": {
        "colab": {
          "base_uri": "https://localhost:8080/",
          "height": 721
        },
        "id": "driD7TYe64gW",
        "outputId": "98090df4-fee3-4833-e9e9-2467813ad3fb"
      },
      "execution_count": 34,
      "outputs": [
        {
          "output_type": "stream",
          "name": "stdout",
          "text": [
            "      Multiple Comparison of Means - Tukey HSD, FWER=0.05      \n",
            "===============================================================\n",
            "   group1       group2    meandiff p-adj   lower  upper  reject\n",
            "---------------------------------------------------------------\n",
            "    posgrado preparatoria  -0.2098 0.1097 -0.4543 0.0348  False\n",
            "    posgrado  universidad  -0.2205 0.1265 -0.4863 0.0454  False\n",
            "preparatoria  universidad  -0.0107 0.9924 -0.2236 0.2022  False\n",
            "---------------------------------------------------------------\n"
          ]
        },
        {
          "output_type": "execute_result",
          "data": {
            "text/plain": [
              "Text(0.5, 1.0, 'Múltiples comparaciones entre todos los pares (Tukey)')"
            ]
          },
          "metadata": {},
          "execution_count": 34
        },
        {
          "output_type": "display_data",
          "data": {
            "text/plain": [
              "<Figure size 1000x600 with 1 Axes>"
            ],
            "image/png": "[encoded data removed]"
          },
          "metadata": {}
        }
      ]
    },
    {
      "cell_type": "code",
      "source": [
        "#CONCLUSIÓN:No hubo diferencias significativas en los puntajes según el nivel de educación de los padres.\n",
        "#Esto indica que el éxito académico puede depender más de las interacciones y el apoyo directo que de la formación académica de los padres.\n",
        "\n"
      ],
      "metadata": {
        "id": "mmcA9uMoonC9"
      },
      "execution_count": null,
      "outputs": []
    },
    {
      "cell_type": "markdown",
      "source": [
        "# **Distancia**"
      ],
      "metadata": {
        "id": "FphyYxyq7YsD"
      }
    },
    {
      "cell_type": "code",
      "source": [
        "df['distancia'].unique()"
      ],
      "metadata": {
        "colab": {
          "base_uri": "https://localhost:8080/"
        },
        "id": "afBrkoZy7iFm",
        "outputId": "62a4aa56-dc11-4bbc-cc9a-adf43f39fe3e"
      },
      "execution_count": 35,
      "outputs": [
        {
          "output_type": "execute_result",
          "data": {
            "text/plain": [
              "array(['cercano', 'moderado', 'lejano'], dtype=object)"
            ]
          },
          "metadata": {},
          "execution_count": 35
        }
      ]
    },
    {
      "cell_type": "code",
      "source": [
        "# Si todos los grupos tienen una distribución normal\n",
        "import scipy.stats as stats\n",
        "\n",
        "nivel_de_significancia = 0.05\n",
        "\n",
        "# Realizar ANOVA\n",
        "anova_result = stats.f_oneway(\n",
        "    df[df['distancia'] == 'cercano']['puntaje_examen'],\n",
        "    df[df['distancia'] == 'moderado']['puntaje_examen'],\n",
        "    df[df['distancia'] == 'lejano']['puntaje_examen'],\n",
        ")\n",
        "\n",
        "# Interpretar los resultados\n",
        "print(\"Resultados del ANOVA:\")\n",
        "print(f\"F-Estadístico: {anova_result.statistic:.2f}\")\n",
        "print(f\"Valor p: {anova_result.pvalue:.5f}\\n\")\n",
        "\n",
        "if anova_result.pvalue < nivel_de_significancia:\n",
        "    print(\"Conclusión: Hay diferencias significativas entre al menos dos tratamientos.\")\n",
        "else:\n",
        "    print(\"Conclusión: No hay diferencias significativas entre los tratamientos.\")"
      ],
      "metadata": {
        "colab": {
          "base_uri": "https://localhost:8080/"
        },
        "id": "MlwPIigx7vMC",
        "outputId": "f87dc914-0e96-4d41-cfe1-129fe688d5d4"
      },
      "execution_count": 36,
      "outputs": [
        {
          "output_type": "stream",
          "name": "stdout",
          "text": [
            "Resultados del ANOVA:\n",
            "F-Estadístico: 2.74\n",
            "Valor p: 0.06490\n",
            "\n",
            "Conclusión: No hay diferencias significativas entre los tratamientos.\n"
          ]
        }
      ]
    },
    {
      "cell_type": "code",
      "source": [
        "# Si todos los grupos tienen una distribución normal.\n",
        "# Si no cumplen con la normalidad, toman el resultado de la prueba de Kruskal\n",
        "#     y pueden usar los gráficos de Tukey para tomar una decisión (ignorando la tabla).\n",
        "#.    Estrictamente hablando, tendrían que realizar la prueba de Dunn.\n",
        "from statsmodels.stats.multicomp import pairwise_tukeyhsd\n",
        "import matplotlib.pyplot as plt\n",
        "\n",
        "nivel_de_significancia = 0.05\n",
        "\n",
        "# Prueba de Tukey\n",
        "tukey = pairwise_tukeyhsd(endog=df['puntaje_examen'], groups=df['distancia'], alpha=nivel_de_significancia)\n",
        "\n",
        "# Mostrar los resultados\n",
        "print(tukey)\n",
        "\n",
        "# Gráfico de las diferencias entre grupos\n",
        "tukey.plot_simultaneous(ylabel=\"Grupos\", xlabel=\"Medias\")\n",
        "\n",
        "plt.gca().spines['right'].set_visible(False) # derecha\n",
        "plt.gca().spines['top'].set_visible(False)   # superior\n",
        "plt.title(\"Múltiples comparaciones entre todos los pares (Tukey)\")"
      ],
      "metadata": {
        "colab": {
          "base_uri": "https://localhost:8080/",
          "height": 721
        },
        "id": "AsXx8olQ7y5U",
        "outputId": "72727b38-7a74-4765-8e1d-4a8d4ddfa7e5"
      },
      "execution_count": 37,
      "outputs": [
        {
          "output_type": "stream",
          "name": "stdout",
          "text": [
            " Multiple Comparison of Means - Tukey HSD, FWER=0.05  \n",
            "======================================================\n",
            " group1  group2  meandiff p-adj   lower  upper  reject\n",
            "------------------------------------------------------\n",
            "cercano   lejano  -0.2476 0.1581 -0.5638 0.0686  False\n",
            "cercano moderado  -0.1597 0.1636 -0.3656 0.0462  False\n",
            " lejano moderado   0.0879 0.8141 -0.2493 0.4251  False\n",
            "------------------------------------------------------\n"
          ]
        },
        {
          "output_type": "execute_result",
          "data": {
            "text/plain": [
              "Text(0.5, 1.0, 'Múltiples comparaciones entre todos los pares (Tukey)')"
            ]
          },
          "metadata": {},
          "execution_count": 37
        },
        {
          "output_type": "display_data",
          "data": {
            "text/plain": [
              "<Figure size 1000x600 with 1 Axes>"
            ],
            "image/png": "[encoded data removed]"
          },
          "metadata": {}
        }
      ]
    },
    {
      "cell_type": "code",
      "source": [
        "#CONCLUSIÓN:No se encontraron diferencias significativas entre estudiantes que viven cerca, a distancia moderada o lejos del centro educativo.\n",
        "#EstO podría estar influido por el acceso a medios de transporte o tecnología.\n",
        "\n"
      ],
      "metadata": {
        "id": "GHmss42youRo"
      },
      "execution_count": null,
      "outputs": []
    },
    {
      "cell_type": "markdown",
      "source": [
        "# **Género**"
      ],
      "metadata": {
        "id": "08KGy0da8E3U"
      }
    },
    {
      "cell_type": "code",
      "source": [
        "df['genero'].unique()"
      ],
      "metadata": {
        "colab": {
          "base_uri": "https://localhost:8080/"
        },
        "id": "IjjMOdlc8RFf",
        "outputId": "97087eba-bc62-4ccb-fd8b-8422f5100bfc"
      },
      "execution_count": 38,
      "outputs": [
        {
          "output_type": "execute_result",
          "data": {
            "text/plain": [
              "array(['hombre', 'mujer'], dtype=object)"
            ]
          },
          "metadata": {},
          "execution_count": 38
        }
      ]
    },
    {
      "cell_type": "code",
      "source": [
        "# Si todos los grupos tienen una distribución normal\n",
        "import scipy.stats as stats\n",
        "\n",
        "nivel_de_significancia = 0.05\n",
        "\n",
        "# Realizar ANOVA\n",
        "anova_result = stats.f_oneway(\n",
        "    df[df['genero'] == 'hombre']['puntaje_examen'],\n",
        "    df[df['genero'] == 'mujer']['puntaje_examen'],\n",
        ")\n",
        "\n",
        "# Interpretar los resultados\n",
        "print(\"Resultados del ANOVA:\")\n",
        "print(f\"F-Estadístico: {anova_result.statistic:.2f}\")\n",
        "print(f\"Valor p: {anova_result.pvalue:.5f}\\n\")\n",
        "\n",
        "if anova_result.pvalue < nivel_de_significancia:\n",
        "    print(\"Conclusión: Hay diferencias significativas entre al menos dos tratamientos.\")\n",
        "else:\n",
        "    print(\"Conclusión: No hay diferencias significativas entre los tratamientos.\")"
      ],
      "metadata": {
        "colab": {
          "base_uri": "https://localhost:8080/"
        },
        "id": "WnCfooGh8UKD",
        "outputId": "cce316e8-95fc-43a1-e283-12adb1303941"
      },
      "execution_count": 39,
      "outputs": [
        {
          "output_type": "stream",
          "name": "stdout",
          "text": [
            "Resultados del ANOVA:\n",
            "F-Estadístico: 0.01\n",
            "Valor p: 0.93008\n",
            "\n",
            "Conclusión: No hay diferencias significativas entre los tratamientos.\n"
          ]
        }
      ]
    },
    {
      "cell_type": "code",
      "source": [
        "# Si todos los grupos tienen una distribución normal.\n",
        "# Si no cumplen con la normalidad, toman el resultado de la prueba de Kruskal\n",
        "#     y pueden usar los gráficos de Tukey para tomar una decisión (ignorando la tabla).\n",
        "#.    Estrictamente hablando, tendrían que realizar la prueba de Dunn.\n",
        "from statsmodels.stats.multicomp import pairwise_tukeyhsd\n",
        "import matplotlib.pyplot as plt\n",
        "\n",
        "nivel_de_significancia = 0.05\n",
        "\n",
        "# Prueba de Tukey\n",
        "tukey = pairwise_tukeyhsd(endog=df['puntaje_examen'], groups=df['genero'], alpha=nivel_de_significancia)\n",
        "\n",
        "# Mostrar los resultados\n",
        "print(tukey)\n",
        "\n",
        "# Gráfico de las diferencias entre grupos\n",
        "tukey.plot_simultaneous(ylabel=\"Grupos\", xlabel=\"Medias\")\n",
        "\n",
        "plt.gca().spines['right'].set_visible(False) # derecha\n",
        "plt.gca().spines['top'].set_visible(False)   # superior\n",
        "plt.title(\"Múltiples comparaciones entre todos los pares (Tukey)\")"
      ],
      "metadata": {
        "colab": {
          "base_uri": "https://localhost:8080/",
          "height": 687
        },
        "id": "IDhhal-t8Xxn",
        "outputId": "e8094f5d-da50-4fc5-bb9f-e09787792b91"
      },
      "execution_count": 40,
      "outputs": [
        {
          "output_type": "stream",
          "name": "stdout",
          "text": [
            "Multiple Comparison of Means - Tukey HSD, FWER=0.05\n",
            "===================================================\n",
            "group1 group2 meandiff p-adj   lower  upper  reject\n",
            "---------------------------------------------------\n",
            "hombre  mujer    0.007 0.9301 -0.1495 0.1635  False\n",
            "---------------------------------------------------\n"
          ]
        },
        {
          "output_type": "execute_result",
          "data": {
            "text/plain": [
              "Text(0.5, 1.0, 'Múltiples comparaciones entre todos los pares (Tukey)')"
            ]
          },
          "metadata": {},
          "execution_count": 40
        },
        {
          "output_type": "display_data",
          "data": {
            "text/plain": [
              "<Figure size 1000x600 with 1 Axes>"
            ],
            "image/png": "[encoded data removed]"
          },
          "metadata": {}
        }
      ]
    },
    {
      "cell_type": "code",
      "source": [
        "#CONSLUSIÓN:El género no tuvo un impacto significativo en el desempeño académico, lo que confirma la tendencia hacia una igualdad en el rendimiento entre hombres y mujeres.\n",
        "\n"
      ],
      "metadata": {
        "id": "fBlo_2Mqo2hJ"
      },
      "execution_count": null,
      "outputs": []
    },
    {
      "cell_type": "markdown",
      "source": [
        "#**Resultados**\n",
        "\n",
        "El análisis realizado sobre las variables que influyen en el desempeño académico de los estudiantes ofreció una perspectiva sobre cuáles factores son muy importantes en el puntaje de los exámenes.  \n",
        "\n",
        "Los resultados revelaron que algunas variables tuvieron un impacto  importante en el desempeño académico:  \n",
        "   - **Acceso a Recursos:** Los estudiantes con un acceso  a recursos educativos presentaron puntajes de examen  más altos que aquellos con acceso bajo. Esto refuerza la importancia de garantizar materiales, tecnología y herramientas de aprendizaje accesibles para los estudiantes.  \n",
        "   - **Calidad del Profesorado:** Se encontró que estudiantes que recibieron instrucción de un maestro con calidad obtuvieron mejores puntajes en los exámenes que aquellos con calidad media o baja. Esto destaca la necesidad de invertir en la capacitación docente para mejorar los resultados educativos.\n",
        "\n",
        "Por otro lado, varias variables no mostraron una influencia importante en el desempeño académico:\n",
        "\n",
        "   - **Participación Parental:** Aunque se sugiere que un mayor involucramiento de los papás debería influir positivamente en el rendimiento, los resultados no mostraron diferencias entre los niveles de participación de los padres.\n",
        "   - **Actividades Extracurriculares:** No se encontraron diferencias significativas entre estudiantes que participan en actividades extracurriculares y aquellos que no. Aunque estas actividades pueden tener beneficios en otras áreas, como el desarrollo social, su impacto directo en los puntajes de examen no fue tan importante.  \n",
        "   - **Nivel de Motivación:** La motivación por sí sola no es suficiente sin recursos adecuados y apoyo externo.  \n",
        "   - **Acceso a Internet:** La disponibilidad de internet tampoco mostró diferencias significativas entre grupos. Esto puede explicarse por variaciones en cómo los estudiantes utilizan este recurso, ya sea con fines académicos o para otras cosas que no tienen nada que ver con la escuela.  \n",
        "   - **Tipo de Escuela:** No se encontraron diferencias significativas entre estudiantes de escuelas públicas y privadas, desafiando la percepción generalizada de que la educación privada garantiza mejores resultados.  \n",
        "\n",
        "   - **Influencia de los Compañeros:** No hubo diferencias significativas en el desempeño según la influencia positiva, negativa o neutral de los compañeros. Aunque el entorno social es relevante para el bienestar emocional, su impacto directo en el rendimiento académico no fue concluyente.  \n",
        "   - **Género:** Hombres y mujeres tuvieron un rendimiento académico similar, lo que refuerza la tendencia hacia una igualdad de oportunidades y resultados en la educación actual.  \n",
        "   - **Distancia al Centro Educativo:** La proximidad al centro educativo tampoco mostró un impacto significativo en los puntajes de examen.\n",
        "   - **Nivel de Estudio de los Padres:** No hubo diferencias significativas entre los niveles de estudio de los padres (preparatoria, universidad, posgrado) en el desempeño académico de los estudiantes. Esto indica que el nivel educativo de los padres puede ser menos relevante que el apoyo emocional que brindan.  \n",
        "   - **Discapacidad de Aprendizaje:** Se destaca la importancia de implementar estrategias inclusivas para garantizar que todos los estudiantes puedan alcanzar su máximo potencial.  \n",
        "\n",
        "\n"
      ],
      "metadata": {
        "id": "POVqP4Wl8vlE"
      }
    }
  ]
}